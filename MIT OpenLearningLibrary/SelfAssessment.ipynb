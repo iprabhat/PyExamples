{
 "cells": [
  {
   "cell_type": "code",
   "execution_count": 1,
   "id": "african-google",
   "metadata": {},
   "outputs": [],
   "source": [
    "import numpy as np"
   ]
  },
  {
   "cell_type": "code",
   "execution_count": 3,
   "id": "current-oriental",
   "metadata": {},
   "outputs": [],
   "source": [
    "a = np.array([1,5,-3,2])\n",
    "b = np.array([8,2,4,7])"
   ]
  },
  {
   "cell_type": "code",
   "execution_count": 7,
   "id": "nuclear-syndication",
   "metadata": {},
   "outputs": [
    {
     "name": "stdout",
     "output_type": "stream",
     "text": [
      "20\n",
      "[ 1  5 -3  2]\n"
     ]
    }
   ],
   "source": [
    "print(np.dot(a.T,b))\n",
    "print(a.T)"
   ]
  },
  {
   "cell_type": "code",
   "execution_count": 11,
   "id": "fluid-produce",
   "metadata": {},
   "outputs": [
    {
     "name": "stdout",
     "output_type": "stream",
     "text": [
      "(2, 3) (3, 1)\n",
      "[[-2]\n",
      " [-9]]\n"
     ]
    }
   ],
   "source": [
    "M = np.array([[1,2,3],[-2,3,7]])\n",
    "v = np.array([[1],[0],[-1]])\n",
    "print(M.shape, v.shape)\n",
    "print(np.dot(M,v))"
   ]
  },
  {
   "cell_type": "code",
   "execution_count": 16,
   "id": "fancy-strategy",
   "metadata": {},
   "outputs": [
    {
     "name": "stdout",
     "output_type": "stream",
     "text": [
      "[[ 8  2]\n",
      " [40 10]\n",
      " [ 0  0]]\n"
     ]
    }
   ],
   "source": [
    "w = np.array([[1],[5],[0]])\n",
    "x = np.array([[8],[2]])\n",
    "print(np.dot(w,x.T))"
   ]
  },
  {
   "cell_type": "code",
   "execution_count": 18,
   "id": "comic-breath",
   "metadata": {},
   "outputs": [
    {
     "name": "stdout",
     "output_type": "stream",
     "text": [
      "[[ 8 40  0]\n",
      " [ 2 10  0]]\n",
      "[[ 8 40  0]\n",
      " [ 2 10  0]]\n"
     ]
    }
   ],
   "source": [
    "print(np.dot(w,x.T).T) # (AB).T\n",
    "print(np.dot(x,w.T))   # (B.T,A.T)"
   ]
  },
  {
   "cell_type": "code",
   "execution_count": 24,
   "id": "peaceful-cemetery",
   "metadata": {},
   "outputs": [
    {
     "name": "stdout",
     "output_type": "stream",
     "text": [
      "(3, 3)\n",
      "[[-1.80143985e+16 -1.16666667e+00  6.00479950e+15]\n",
      " [ 6.00479950e+15  1.66666667e-01 -2.00159983e+15]\n",
      " [-6.66666667e-01  3.33333333e-01 -0.00000000e+00]]\n"
     ]
    }
   ],
   "source": [
    "X = np.array([[1,3,2],[2,6,7],[3,9,6]])\n",
    "print(X.shape)\n",
    "print(np.linalg.inv(X))"
   ]
  },
  {
   "cell_type": "code",
   "execution_count": 63,
   "id": "anonymous-shannon",
   "metadata": {},
   "outputs": [],
   "source": [
    "def add_two_list(a,b):\n",
    "    return [x+y for x,y in zip(a,b)]\n",
    "\n",
    "def dot(v1,v2):\n",
    "    return sum([x*y for x,y in zip(v1,v2)])\n",
    "\n",
    "def add_n(n):\n",
    "    return lambda x : [n + i for i in x]\n",
    "\n",
    "def array_mult(A,B):\n",
    "    R = []\n",
    "    for i in range(len(M1)):\n",
    "        temp = []\n",
    "        tempVal = 0\n",
    "        k = 0\n",
    "        for x in range(len(M2[0])):\n",
    "            k = k + 1\n",
    "            for j in range(len(M2)):\n",
    "                tempVal = tempVal + (M1[i][j] * M2[j][x])\n",
    "            temp.append(tempVal)\n",
    "            tempVal = 0        \n",
    "        R.append(temp)\n",
    "    return R        "
   ]
  },
  {
   "cell_type": "code",
   "execution_count": 64,
   "id": "acoustic-individual",
   "metadata": {},
   "outputs": [
    {
     "name": "stdout",
     "output_type": "stream",
     "text": [
      "[5, 7, 9]\n",
      "32\n"
     ]
    },
    {
     "data": {
      "text/plain": [
       "[11, 15, 13]"
      ]
     },
     "execution_count": 64,
     "metadata": {},
     "output_type": "execute_result"
    }
   ],
   "source": [
    "print(add_two_list([1,2,3],[4,5,6]))\n",
    "print(dot([1,2,3],[4,5,6]))\n",
    "add_n(10)([1,5,3])"
   ]
  },
  {
   "cell_type": "code",
   "execution_count": 65,
   "id": "associate-armor",
   "metadata": {},
   "outputs": [
    {
     "data": {
      "text/plain": [
       "[[1, 2, 3], [-2, 3, 7]]"
      ]
     },
     "execution_count": 65,
     "metadata": {},
     "output_type": "execute_result"
    }
   ],
   "source": [
    "M1 = [[1, 2, 3], [-2, 3, 7]]\n",
    "M2 = [[1,0,0],[0,1,0],[0,0,1]]\n",
    "array_mult(M1, M2)"
   ]
  },
  {
   "cell_type": "code",
   "execution_count": 62,
   "id": "seventh-mixer",
   "metadata": {},
   "outputs": [
    {
     "name": "stdout",
     "output_type": "stream",
     "text": [
      "[[1, 2, 3], [-2, 3, 7]]\n"
     ]
    }
   ],
   "source": [
    "M1 = [[1, 2, 3], \n",
    "      [-2, 3, 7]]\n",
    "M2 = [[1,0,0],\n",
    "      [0,1,0],\n",
    "      [0,0,1]]\n",
    "R = []\n",
    "for i in range(len(M1)):\n",
    "    temp = []\n",
    "    tempVal = 0\n",
    "    k = 0\n",
    "    for x in range(len(M2[0])):\n",
    "        k = k + 1\n",
    "        for j in range(len(M2)):\n",
    "            #print(\"k : \", k)\n",
    "            #print(\"j : \", j)\n",
    "            tempVal = tempVal + (M1[i][j] * M2[j][x])\n",
    "        temp.append(tempVal)\n",
    "        tempVal = 0        \n",
    "    R.append(temp)\n",
    "print(R)"
   ]
  }
 ],
 "metadata": {
  "kernelspec": {
   "display_name": "Python 3",
   "language": "python",
   "name": "python3"
  },
  "language_info": {
   "codemirror_mode": {
    "name": "ipython",
    "version": 3
   },
   "file_extension": ".py",
   "mimetype": "text/x-python",
   "name": "python",
   "nbconvert_exporter": "python",
   "pygments_lexer": "ipython3",
   "version": "3.8.5"
  }
 },
 "nbformat": 4,
 "nbformat_minor": 5
}
