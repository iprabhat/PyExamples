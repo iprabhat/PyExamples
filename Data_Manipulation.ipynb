{
 "cells": [
  {
   "cell_type": "code",
   "execution_count": null,
   "metadata": {
    "collapsed": true
   },
   "outputs": [],
   "source": [
    "#load dataset\n",
    "import csv\n",
    "xor_data = []\n",
    "with open(\"inputXOR.csv\",\"r\") as f:\n",
    "    xor_reader = csv.reader(f,delimiter=' ', quotechar='|')\n",
    "    for r in xor_reader:\n",
    "        xor_data.append(', '.join(r))"
   ]
  },
  {
   "cell_type": "code",
   "execution_count": null,
   "metadata": {
    "collapsed": true
   },
   "outputs": [],
   "source": [
    "XOR_X = np.zeros([800,2])\n",
    "XOR_Y = np.zeros([800,1])\n",
    "for i in range(len(xor_data)):\n",
    "    XOR_X[i] = np.double([xor_data[i].split(',')[0:2]])\n",
    "    XOR_Y[i] = np.double([xor_data[i].split(',')[2:3]])    "
   ]
  },
  {
   "cell_type": "code",
   "execution_count": null,
   "metadata": {
    "collapsed": true
   },
   "outputs": [],
   "source": [
    "#SAVE DATASET\n",
    "#import pickle\n",
    "#with open(\"xor_dataset.dat\",\"wb\") as f:\n",
    "#    pickle.dump(xor_data,f)\n",
    "#print(\"Dataset Saved\")"
   ]
  },
  {
   "cell_type": "code",
   "execution_count": null,
   "metadata": {
    "collapsed": true
   },
   "outputs": [],
   "source": [
    "#Load Dataset\n",
    "import pickle\n",
    "with open(\"xor_dataset.dat\",\"rb\") as f:\n",
    "    xor_data = pickle.load(f)\n",
    "training_X = xor_data[0]\n",
    "training_Y = xor_data[1]\n",
    "print(\"Training Data Loaded\")"
   ]
  },
  {
   "cell_type": "code",
   "execution_count": null,
   "metadata": {
    "collapsed": true
   },
   "outputs": [],
   "source": [
    "print((training_X.shape))\n",
    "print((training_Y.shape))"
   ]
  }
 ],
 "metadata": {
  "kernelspec": {
   "display_name": "Python 3 (ipykernel)",
   "language": "python",
   "name": "python3"
  }
 },
 "nbformat": 4,
 "nbformat_minor": 2
}
