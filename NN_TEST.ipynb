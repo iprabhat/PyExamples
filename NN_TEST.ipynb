{
 "cells": [
  {
   "cell_type": "code",
   "execution_count": 1,
   "metadata": {},
   "outputs": [],
   "source": [
    "import numpy as np\n",
    "import TestNN"
   ]
  },
  {
   "cell_type": "code",
   "execution_count": 3,
   "metadata": {},
   "outputs": [],
   "source": [
    "# input dataset\n",
    "X = np.array([  [0,0,1],\n",
    "                [0,1,1],\n",
    "                [1,0,1],\n",
    "                [1,1,1] ])\n",
    "# output dataset            \n",
    "y = np.array([[0,0,1,1]]).T"
   ]
  },
  {
   "cell_type": "code",
   "execution_count": 2,
   "metadata": {},
   "outputs": [],
   "source": [
    "# input dataset\n",
    "X = np.array([  [0,0],\n",
    "                [0,1],\n",
    "                [1,0],\n",
    "                [1,1] ])\n",
    "# output dataset            \n",
    "y = np.array([[0,1,1,0]]).T"
   ]
  },
  {
   "cell_type": "code",
   "execution_count": 12,
   "metadata": {
    "scrolled": true
   },
   "outputs": [
    {
     "name": "stdout",
     "output_type": "stream",
     "text": [
      "Weights\n",
      "[[ 0.05278082 -0.53073892]] (1, 2) \n",
      "\n",
      "\n",
      "Bias\n",
      "[[-0.35207472]] (1, 1) \n",
      "\n"
     ]
    }
   ],
   "source": [
    "cl = TestNN.NN([2,1])\n",
    "cl.display()"
   ]
  },
  {
   "cell_type": "code",
   "execution_count": 8,
   "metadata": {},
   "outputs": [
    {
     "name": "stdout",
     "output_type": "stream",
     "text": [
      "[[0 0]\n",
      " [0 1]\n",
      " [1 0]\n",
      " [1 1]]\n",
      "[[0]\n",
      " [1]\n",
      " [1]\n",
      " [0]]\n"
     ]
    }
   ],
   "source": [
    "print(X)\n",
    "print(y)"
   ]
  },
  {
   "cell_type": "code",
   "execution_count": 13,
   "metadata": {
    "scrolled": false
   },
   "outputs": [],
   "source": [
    "cl.train(X.T,y.T,epochs=5000,eta=0.05)"
   ]
  },
  {
   "cell_type": "code",
   "execution_count": 25,
   "metadata": {
    "scrolled": false
   },
   "outputs": [
    {
     "name": "stdout",
     "output_type": "stream",
     "text": [
      ":::::: Feedforward ::::::\n",
      "[[0.03803319]]\n",
      ":::::: Feedforward ::::::\n",
      "[[0.03040738]]\n",
      ":::::: Feedforward ::::::\n",
      "[[0.97571427]]\n",
      ":::::: Feedforward ::::::\n",
      "[[0.96957552]]\n"
     ]
    }
   ],
   "source": [
    "print(cl.feedforward(np.array([[0,0,1]]).T))\n",
    "print(cl.feedforward(np.array([[0,1,1]]).T))\n",
    "print(cl.feedforward(np.array([[1,0,1]]).T))\n",
    "print(cl.feedforward(np.array([[1,1,1]]).T))"
   ]
  },
  {
   "cell_type": "code",
   "execution_count": 14,
   "metadata": {},
   "outputs": [
    {
     "name": "stdout",
     "output_type": "stream",
     "text": [
      ":::::: Feedforward ::::::\n",
      "[[0.50045952]]\n",
      ":::::: Feedforward ::::::\n",
      "[[0.49859204]]\n",
      ":::::: Feedforward ::::::\n",
      "[[0.50155219]]\n",
      ":::::: Feedforward ::::::\n",
      "[[0.49968471]]\n"
     ]
    }
   ],
   "source": [
    "print(cl.feedforward(np.array([[0,0]]).T))\n",
    "print(cl.feedforward(np.array([[0,1]]).T))\n",
    "print(cl.feedforward(np.array([[1,0]]).T))\n",
    "print(cl.feedforward(np.array([[1,1]]).T))"
   ]
  }
 ],
 "metadata": {
  "kernelspec": {
   "display_name": "Python 3",
   "language": "python",
   "name": "python3"
  },
  "language_info": {
   "codemirror_mode": {
    "name": "ipython",
    "version": 3
   },
   "file_extension": ".py",
   "mimetype": "text/x-python",
   "name": "python",
   "nbconvert_exporter": "python",
   "pygments_lexer": "ipython3",
   "version": "3.6.4"
  }
 },
 "nbformat": 4,
 "nbformat_minor": 2
}
