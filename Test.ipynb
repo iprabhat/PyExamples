{
 "cells": [
  {
   "cell_type": "code",
   "execution_count": null,
   "metadata": {},
   "outputs": [],
   "source": [
    "import numpy as np\n",
    "import pickle\n",
    "import TestNN"
   ]
  },
  {
   "cell_type": "code",
   "execution_count": null,
   "metadata": {},
   "outputs": [],
   "source": [
    "output_type = {1:\"setosa\",2:\"versicolor\",3:\"virginica\"}\n",
    "print (output_type)\n",
    "print(output_type[1])\n",
    "\n",
    "output_val = {\"setosa\" : 1,\"versicolor\" : 2, \"virginica\" : 3}\n",
    "print(output_val[\"setosa\"])"
   ]
  },
  {
   "cell_type": "code",
   "execution_count": null,
   "metadata": {},
   "outputs": [],
   "source": [
    "#Load IRIS Data\n",
    "with open(\"iris.csv\",\"r\") as f:\n",
    "    f.readline()\n",
    "    iris_data = f.readlines()"
   ]
  },
  {
   "cell_type": "code",
   "execution_count": null,
   "metadata": {},
   "outputs": [],
   "source": [
    "X = np.zeros([150,4])\n",
    "Y = np.zeros([150,3])"
   ]
  },
  {
   "cell_type": "code",
   "execution_count": null,
   "metadata": {},
   "outputs": [],
   "source": [
    "for i in range(len(iris_data)):\n",
    "    temp = iris_data[i].replace('\\n','').split(',')\n",
    "    X[i] = np.double([temp[0:4]])\n",
    "    k = output_val[temp[4:5][0]]\n",
    "    Y[i,k-1] = 1"
   ]
  },
  {
   "cell_type": "code",
   "execution_count": null,
   "metadata": {},
   "outputs": [],
   "source": [
    "print(X[99])\n",
    "print(Y[99])\n"
   ]
  },
  {
   "cell_type": "code",
   "execution_count": null,
   "metadata": {},
   "outputs": [],
   "source": [
    "X = np.zeros([150,4])\n",
    "Y = np.zeros([150,1])\n",
    "\n",
    "for i in range(len(iris_data)):\n",
    "    temp = iris_data[i].replace('\\n','').split(',')\n",
    "    X[i] = np.double([temp[0:4]])\n",
    "    Y[i] = np.double([output_val[temp[4:5][0]]])\n",
    "    #print(output_val[temp[4:5][0]])"
   ]
  },
  {
   "cell_type": "code",
   "execution_count": null,
   "metadata": {},
   "outputs": [],
   "source": [
    "#print(iris_data[1])\n",
    "#print(X.shape)\n",
    "#print(Y.shape)\n",
    "desc = \"This dataset consists of iris data that are classified as 'setosa','versicolor' or 'virginica' with values 1,2 and 3 respectively.\"\n",
    "IRIS_DATASET = {\"X\" : X, \"Y\" : Y, \"DESC\" : desc}"
   ]
  },
  {
   "cell_type": "code",
   "execution_count": null,
   "metadata": {},
   "outputs": [],
   "source": [
    "#Save Dataset\n",
    "with open(\"IRIS_DATASET.dat\",\"wb\") as f:\n",
    "    pickle.dump(IRIS_DATASET,f)"
   ]
  },
  {
   "cell_type": "code",
   "execution_count": null,
   "metadata": {},
   "outputs": [],
   "source": [
    "#load Dataset\n",
    "with open(\"IRIS_DATASET.dat\",\"rb\") as f:\n",
    "    data = pickle.load(f)"
   ]
  },
  {
   "cell_type": "code",
   "execution_count": null,
   "metadata": {},
   "outputs": [],
   "source": [
    "print((data[\"X\"].shape))\n",
    "print((data[\"Y\"].shape))\n",
    "print(data[\"DESC\"])\n",
    "print(\"\\n\")\n",
    "idx = 49\n",
    "test_data = np.double([data[\"X\"][idx]])\n",
    "test_data_op = np.double([data[\"Y\"][idx]])\n",
    "\n",
    "print(test_data)\n",
    "print(test_data_op)"
   ]
  },
  {
   "cell_type": "code",
   "execution_count": null,
   "metadata": {
    "scrolled": true
   },
   "outputs": [],
   "source": [
    "#Train IRIS data\n",
    "\n",
    "net = TestNN.NN([4,5,3])\n",
    "net.train(data[\"X\"].T, data[\"Y\"].T, 5000, 0.05)"
   ]
  },
  {
   "cell_type": "code",
   "execution_count": null,
   "metadata": {
    "scrolled": true
   },
   "outputs": [],
   "source": [
    "#Predict IRIS Data\n",
    "\n",
    "print(net.feedforward(test_data.T))\n"
   ]
  },
  {
   "cell_type": "markdown",
   "metadata": {},
   "source": [
    "[[0.10839176]\n",
    " [0.18006016]\n",
    " [0.45459826]]"
   ]
  },
  {
   "cell_type": "code",
   "execution_count": null,
   "metadata": {},
   "outputs": [],
   "source": [
    "print(op.shape)"
   ]
  },
  {
   "cell_type": "code",
   "execution_count": null,
   "metadata": {},
   "outputs": [],
   "source": [
    "class NN():\n",
    "    def __init__(self, dim):\n",
    "        self.layers = len(dim)\n",
    "        self.dimensions = dim\n",
    "        self.weight = [np.random.randn(i,j) for i,j in [(x,y) for x,y in zip(dim[1:], dim[:-1])]]\n",
    "        self.bias = [np.random.randn(y, 1) for y in dim[1:]]\n",
    "        \n",
    "    def sigmoid(self,z):\n",
    "        \"\"\"The sigmoid function.\"\"\"\n",
    "        return 1.0/(1.0+np.exp(-z))\n",
    "    \n",
    "    def sigmoid_prime(self,z):\n",
    "        \"\"\"Derivative of the sigmoid function.\"\"\"\n",
    "        return self.sigmoid(z)*(1-self.sigmoid(z))\n",
    "    \n",
    "    def feedforward(self,X):\n",
    "        A = X\n",
    "        for w, b in zip(self.weight, self.bias):\n",
    "            A = self.sigmoid((np.dot(w,A)+b))\n",
    "        return A\n",
    "    \n",
    "    def backprop(self, X,y):\n",
    "        #print(\"::::::: Backprop :::::::\\n\")\n",
    "        #FeedForward\n",
    "        nabla_b = [np.zeros(b.shape) for b in self.bias]\n",
    "        nabla_w = [np.zeros(w.shape) for w in self.weight]\n",
    "        activation = X\n",
    "        activations = [X]\n",
    "        zs = []\n",
    "        for b, w in zip(self.bias, self.weight):\n",
    "            z = np.dot(w, activation)+b\n",
    "            zs.append(z)\n",
    "            activation = self.sigmoid(z)\n",
    "            activations.append(activation)\n",
    "            \n",
    "        # backward pass\n",
    "        # Delta for Output Layer\n",
    "        #delta = (activations[-1] - y) * sigmoid_prime(zs[-1]) # For mean squared error                \n",
    "        delta = (activations[-1] - y) # For Cross Entropy Error (Logistic Error)        \n",
    "        #nabla_b[-1] = delta\n",
    "        nabla_b[-1] = (1/X.shape[1]) * np.sum(delta, axis=1, keepdims=True)         \n",
    "        #nabla_w[-1] =  np.dot(delta, activations[-2].transpose())        \n",
    "        nabla_w[-1] =  (1/X.shape[1]) * np.dot(delta, activations[-2].transpose())\n",
    "                \n",
    "        #Delta for Hidden Layers        \n",
    "        for l in range(2, self.layers):            \n",
    "            z = zs[-l]\n",
    "            sp = self.sigmoid_prime(z)\n",
    "            delta = np.dot(self.weight[-l+1].transpose(), delta) * sp                       \n",
    "            nabla_b[-l] = (1/X.shape[1]) * np.sum(delta, axis=1, keepdims=True)\n",
    "            nabla_w[-l] = (1/X.shape[1]) * np.dot(delta, activations[-l-1].transpose())            \n",
    "        return (nabla_b, nabla_w)\n",
    "    \n",
    "    def update_weights(self,X, y,eta):\n",
    "        #print(\"::::::: Update Weights :::::::\\n\")\n",
    "        nabla_b = [np.zeros(b.shape) for b in self.bias]\n",
    "        nabla_w = [np.zeros(w.shape) for w in self.weight]\n",
    "        \n",
    "        delta_nabla_b, delta_nabla_w = self.backprop(X, y)              \n",
    "        nabla_b = [nb+dnb for nb, dnb in zip(nabla_b, delta_nabla_b)]\n",
    "        nabla_w = [nw+dnw for nw, dnw in zip(nabla_w, delta_nabla_w)]\n",
    "        \n",
    "        #self.weight = [w-(eta/X.shape[1])*nw for w, nw in zip(self.weight, nabla_w)]   \n",
    "        #self.bias = [b-(eta/X.shape[1])*nb for b, nb in zip(self.bias, nabla_b)]\n",
    "        self.weight = [w-(eta/1.0)*nw for w, nw in zip(self.weight, nabla_w)]   \n",
    "        self.bias = [b-(eta/1.0)*nb for b, nb in zip(self.bias, nabla_b)]\n",
    "        #print(\"::::::: End Update Weights :::::::\\n\")    \n",
    "        \n",
    "    def train(self, X, y, epochs=10, eta=0.01):\n",
    "        for i in range(epochs):\n",
    "            self.update_weights(X,y,eta)            \n",
    "        print(\"Training Complete (Epochs: \",epochs,\")\")\n",
    "            \n",
    "    def predict(self, ip):\n",
    "        return np.argmax(self.feedforward(ip))\n",
    "        \n",
    "    def display(self):\n",
    "        print(\"Weights\")\n",
    "        for x in self.weight:\n",
    "            print(x,x.shape,\"\\n\")\n",
    "        print(\"\\nBias\")\n",
    "        for y in self.bias:\n",
    "            print(y, y.shape,\"\\n\")\n",
    "            \n",
    "    def display_2(self):\n",
    "        for b,w in zip(self.bias, self.weight):\n",
    "            print(\"Bias: \",b,b.shape,\"\\n\", \"Weight: \", w, w.shape)\n"
   ]
  },
  {
   "cell_type": "code",
   "execution_count": null,
   "metadata": {},
   "outputs": [],
   "source": [
    "temp = [ (i , i**2) for i in range(5)]\n",
    "print(temp)"
   ]
  }
 ],
 "metadata": {
  "kernelspec": {
   "display_name": "Python 3",
   "language": "python",
   "name": "python3"
  },
  "language_info": {
   "codemirror_mode": {
    "name": "ipython",
    "version": 3
   },
   "file_extension": ".py",
   "mimetype": "text/x-python",
   "name": "python",
   "nbconvert_exporter": "python",
   "pygments_lexer": "ipython3",
   "version": "3.6.4"
  }
 },
 "nbformat": 4,
 "nbformat_minor": 2
}
