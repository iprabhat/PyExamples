{
 "cells": [
  {
   "cell_type": "code",
   "execution_count": 7,
   "metadata": {},
   "outputs": [],
   "source": [
    "import numpy as np\n",
    "import TestNN"
   ]
  },
  {
   "cell_type": "code",
   "execution_count": 64,
   "metadata": {},
   "outputs": [
    {
     "name": "stdout",
     "output_type": "stream",
     "text": [
      "X:  (4, 2)\n",
      "y:  (4, 1)\n"
     ]
    }
   ],
   "source": [
    "# input dataset\n",
    "X = np.array([  [0,0],\n",
    "                [0,1],\n",
    "                [1,0],\n",
    "                [1,1] ])\n",
    "# output dataset            \n",
    "y = np.array([[0,1,1,0]]).T\n",
    "\n",
    "print(\"X: \",X.shape)\n",
    "print(\"y: \",y.shape)"
   ]
  },
  {
   "cell_type": "code",
   "execution_count": 2,
   "metadata": {},
   "outputs": [],
   "source": [
    "# input dataset\n",
    "X = np.array([  [0,0],\n",
    "                [0,1],\n",
    "                [1,0],\n",
    "                [1,1] ])\n",
    "# output dataset            \n",
    "y = np.array([[0,1,1,0]]).T"
   ]
  },
  {
   "cell_type": "code",
   "execution_count": 65,
   "metadata": {
    "scrolled": true
   },
   "outputs": [
    {
     "name": "stdout",
     "output_type": "stream",
     "text": [
      "Weights\n",
      "[[ 0.71642846 -2.05376725]\n",
      " [-0.53671764 -0.90450474]\n",
      " [ 0.76651832  2.30254926]\n",
      " [ 1.01336585 -0.46581168]\n",
      " [-0.01127444 -0.84717478]] (5, 2) \n",
      "\n",
      "[[-0.17957216  0.77149323 -1.1214299  -0.76130196  1.69054026]] (1, 5) \n",
      "\n",
      "\n",
      "Bias\n",
      "[[-1.60870517]\n",
      " [ 0.42296128]\n",
      " [ 0.15056002]\n",
      " [-0.0159804 ]\n",
      " [-0.1967522 ]] (5, 1) \n",
      "\n",
      "[[-0.91873086]] (1, 1) \n",
      "\n"
     ]
    }
   ],
   "source": [
    "cl = TestNN.NN([2,5,1])\n",
    "cl.display()"
   ]
  },
  {
   "cell_type": "code",
   "execution_count": 4,
   "metadata": {},
   "outputs": [
    {
     "name": "stdout",
     "output_type": "stream",
     "text": [
      "[[0 0]\n",
      " [0 1]\n",
      " [1 0]\n",
      " [1 1]]\n",
      "[[0]\n",
      " [1]\n",
      " [1]\n",
      " [0]]\n"
     ]
    }
   ],
   "source": [
    "print(X)\n",
    "print(y)"
   ]
  },
  {
   "cell_type": "code",
   "execution_count": 66,
   "metadata": {
    "scrolled": false
   },
   "outputs": [
    {
     "name": "stdout",
     "output_type": "stream",
     "text": [
      "Epochs Complete:  5000\n"
     ]
    }
   ],
   "source": [
    "cl.train(X.T,y.T,epochs=5000,eta=0.1)"
   ]
  },
  {
   "cell_type": "code",
   "execution_count": 25,
   "metadata": {
    "scrolled": false
   },
   "outputs": [
    {
     "name": "stdout",
     "output_type": "stream",
     "text": [
      ":::::: Feedforward ::::::\n",
      "[[0.03803319]]\n",
      ":::::: Feedforward ::::::\n",
      "[[0.03040738]]\n",
      ":::::: Feedforward ::::::\n",
      "[[0.97571427]]\n",
      ":::::: Feedforward ::::::\n",
      "[[0.96957552]]\n"
     ]
    }
   ],
   "source": [
    "print(cl.feedforward(np.array([[0,0,1]]).T))\n",
    "print(cl.feedforward(np.array([[0,1,1]]).T))\n",
    "print(cl.feedforward(np.array([[1,0,1]]).T))\n",
    "print(cl.feedforward(np.array([[1,1,1]]).T))"
   ]
  },
  {
   "cell_type": "code",
   "execution_count": 67,
   "metadata": {},
   "outputs": [
    {
     "name": "stdout",
     "output_type": "stream",
     "text": [
      "[[0.01378358]]\n",
      "[[0.97105477]]\n",
      "[[0.9791295]]\n",
      "[[0.03502533]]\n"
     ]
    }
   ],
   "source": [
    "print(cl.feedforward(np.array([[0,0]]).T))\n",
    "print(cl.feedforward(np.array([[0,1]]).T))\n",
    "print(cl.feedforward(np.array([[1,0]]).T))\n",
    "print(cl.feedforward(np.array([[1,1]]).T))"
   ]
  },
  {
   "cell_type": "markdown",
   "metadata": {},
   "source": [
    "### NN"
   ]
  },
  {
   "cell_type": "code",
   "execution_count": 93,
   "metadata": {},
   "outputs": [],
   "source": [
    "class MyNN:\n",
    "    def __init__(self, dim):\n",
    "        self.layers = dim\n",
    "        self.WT = [np.random.randn(j,i) for i,j in zip(self.layers[:-1], self.layers[1:])]\n",
    "        self.BIAS = [np.random.randn(i,1) for i in self.layers[1:]]\n",
    "        print(\"Network Initialized:\")\n",
    "        #for w,b in zip(self.WT, self.BIAS):\n",
    "        #    print(w,w.shape)\n",
    "        #    print(b,b.shape)\n",
    "        \n",
    "    def sigmoid(self, z):\n",
    "        return (1.0/(1.0 + np.exp(-z)))\n",
    "    \n",
    "    def sigmoid_derivative(self, a):\n",
    "        return a * (1 - a)\n",
    "    \n",
    "    def train_NN(self, X, Y, alpha = 0.01, epochs = 100):      \n",
    "        for i in range(len(self.WT)):\n",
    "            print(self.WT[i],\":\",self.WT[i].shape)\n",
    "   \n",
    "        for e in range(epochs):\n",
    "            Z = []\n",
    "            A = []\n",
    "            A.append(X)\n",
    "            curr_activation = X;\n",
    "            for w, b in zip(self.WT, self.BIAS):\n",
    "                op = np.dot(w,curr_activation) + b\n",
    "                Z.append(op)\n",
    "                act = self.sigmoid(op)\n",
    "                curr_activation = act\n",
    "                A.append(act)   \n",
    "            \n",
    "            dw = [np.zeros(w.shape) for w in self.WT]\n",
    "            db = [np.zeros(b.shape) for b in self.BIAS]\n",
    "    \n",
    "            #For Output Layer    \n",
    "            delta = A[-1] - Y  #For Cross Entropy Error (Logistic Error)\n",
    "            db[-1] = (1.0/X.shape[1]) * np.sum(delta, axis=1, keepdims=True)\n",
    "            dw[-1] = (1.0/X.shape[1]) * np.dot(delta, A[-2].T)\n",
    "\n",
    "            #For Hidden Layers\n",
    "            #print(\":::::: Hidden Layers :::::::::\")\n",
    "            for l in range(2, len(self.layers)):\n",
    "                da = self.sigmoid_derivative(A[-l])\n",
    "                #print(\"self.WT[-l+1].T :\",self.WT[-l+1].T)\n",
    "                delta = np.dot(self.WT[-l+1].T, delta) * da        \n",
    "                db[-l] = (1.0/X.shape[1]) * np.sum(delta, axis=1,keepdims=True)\n",
    "                dw[-l] = (1.0/X.shape[1]) * np.dot(delta, A[-l-1].T)\n",
    "    \n",
    "            #Update Weights and Biases\n",
    "   \n",
    "            self.WT = [ w - (alpha) * nw for w, nw in zip(self.WT, dw) ]\n",
    "            self.BIAS = [ b - (alpha) * nb for b, nb in zip(self.BIAS, db) ]\n",
    "        print(\"All epochs are completed: \", epochs)\n",
    "    \n",
    "    def feedforward(self, X):\n",
    "        for w, b in zip(self.WT, self.BIAS):\n",
    "            X = self.sigmoid((np.dot(w, X) + b))\n",
    "        return X\n",
    "    \n",
    "    def predict(self, test):\n",
    "        return self.feedforward(X.T)"
   ]
  },
  {
   "cell_type": "code",
   "execution_count": 109,
   "metadata": {
    "scrolled": true
   },
   "outputs": [
    {
     "name": "stdout",
     "output_type": "stream",
     "text": [
      "Network Initialized:\n",
      "[[ 2.2616351  -0.71520736]\n",
      " [ 0.42928719  2.68151779]\n",
      " [ 0.79152958  0.59377266]] : (3, 2)\n",
      "[[-0.76113774 -1.71797189 -0.70500762]] : (1, 3)\n",
      "All epochs are completed:  5000\n"
     ]
    }
   ],
   "source": [
    "n = MyNN([2,3,1])\n",
    "n.train_NN(X.T, y.T, 0.1, 5000)"
   ]
  },
  {
   "cell_type": "code",
   "execution_count": 110,
   "metadata": {},
   "outputs": [
    {
     "name": "stdout",
     "output_type": "stream",
     "text": [
      "[[0.01279912]]\n",
      "[[0.96179634]]\n",
      "[[0.96080367]]\n",
      "[[0.05090562]]\n"
     ]
    }
   ],
   "source": [
    "print(n.feedforward(np.array([[0,0]]).T))\n",
    "print(n.feedforward(np.array([[0,1]]).T))\n",
    "print(n.feedforward(np.array([[1,0]]).T))\n",
    "print(n.feedforward(np.array([[1,1]]).T))"
   ]
  },
  {
   "cell_type": "code",
   "execution_count": 31,
   "metadata": {},
   "outputs": [],
   "source": [
    "def sigmoid(z):\n",
    "    return (1.0/(1.0 + np.exp(-z)))\n",
    "def sigmoid_derivative(a):\n",
    "    return a * (1 - a)\n",
    "\n",
    "#X,Y,alpha\n",
    "def train_NN(X, Y, layers, alpha = 0.01, epochs = 100):\n",
    "    WT = [np.random.randn(j,i) for i,j in zip(layers[:-1], layers[1:])]\n",
    "    BIAS = [np.random.randn(i,1) for i in layers[1:]]\n",
    "    for i in range(len(WT)):\n",
    "        print(WT[i],\":\",WT[i].shape)\n",
    "   \n",
    "    for e in range(len(epochs)):\n",
    "        Z = []\n",
    "        A = []\n",
    "        A.append(X)\n",
    "        curr_activation = X;\n",
    "        for w, b in zip(WT, BIAS):\n",
    "            op = np.dot(w,curr_activation) + b\n",
    "            Z.append(op)\n",
    "            act = sigmoid(op)\n",
    "            A.append(act)   \n",
    "        dw = [np.zeros(w.shape) for w in WT]\n",
    "        db = [np.zeros(b.shape) for b in BIAS]\n",
    "    \n",
    "        #For Output Layer    \n",
    "        delta = A[-1] - Y  #For Cross Entropy Error (Logistic Error)\n",
    "        db[-1] = (1.0/X.shape[1]) * np.sum(delta, axis=1, keepdims=True)\n",
    "        dw[-1] = (1.0/X.shape[1]) * np.dot(delta, A[-2].T)\n",
    "    \n",
    "        #For Hidden Layers\n",
    "        for i in (2, len(layers)):\n",
    "            da = sigmoid_derivative(A[-l])        \n",
    "            delta_hidden = np.dot(WT[-l+1].T, delta) * da        \n",
    "            db[-l] = (1.0/X.shape[1]) * np.sum(delta_hidden, axis=1,keepdims=True)\n",
    "            dw[-l] = (1.0/X.shape[1]) * np.dot(delta_hidden, A[-l-1].T)\n",
    "    \n",
    "        #Update Weights and Biases\n",
    "        #nb = db\n",
    "        #nw = dw    \n",
    "        WT = [ w - (alpha) * nw for w, nw in zip(WT, dw) ]\n",
    "        BIAS = [ b - (alpha) * nb for b, nb in zip(BIAS, db) ]\n",
    "    \n",
    "    print(\"All epochs are completed: \", epochs)"
   ]
  },
  {
   "cell_type": "code",
   "execution_count": 28,
   "metadata": {},
   "outputs": [
    {
     "data": {
      "text/plain": [
       "0.01798620996209156"
      ]
     },
     "execution_count": 28,
     "metadata": {},
     "output_type": "execute_result"
    }
   ],
   "source": [
    "#train_NN([2,3,1])\n",
    "sigmoid(-4)"
   ]
  },
  {
   "cell_type": "code",
   "execution_count": 30,
   "metadata": {},
   "outputs": [
    {
     "data": {
      "text/plain": [
       "[(3, 2), (1, 3)]"
      ]
     },
     "execution_count": 30,
     "metadata": {},
     "output_type": "execute_result"
    }
   ],
   "source": [
    "temp = []\n",
    "temp.append(np.random.randn(3,2))\n",
    "temp.append(np.random.randn(1,3))\n",
    "[(i.shape) for i in temp]"
   ]
  }
 ],
 "metadata": {
  "kernelspec": {
   "display_name": "Python 3",
   "language": "python",
   "name": "python3"
  },
  "language_info": {
   "codemirror_mode": {
    "name": "ipython",
    "version": 3
   },
   "file_extension": ".py",
   "mimetype": "text/x-python",
   "name": "python",
   "nbconvert_exporter": "python",
   "pygments_lexer": "ipython3",
   "version": "3.6.4"
  }
 },
 "nbformat": 4,
 "nbformat_minor": 2
}
