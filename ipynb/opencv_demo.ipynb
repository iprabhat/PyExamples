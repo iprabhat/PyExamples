{
 "cells": [
  {
   "cell_type": "code",
   "execution_count": null,
   "id": "b2a6733e-a987-49b7-b9cb-a451632fe174",
   "metadata": {},
   "outputs": [],
   "source": [
    "import cv2"
   ]
  },
  {
   "cell_type": "code",
   "execution_count": null,
   "id": "28ebdd59-18de-4713-a110-ec414013d363",
   "metadata": {},
   "outputs": [],
   "source": [
    "image = cv2.imread('images/2.png')"
   ]
  },
  {
   "cell_type": "code",
   "execution_count": null,
   "id": "4019ee82-d6e1-494c-93a9-3e1eab904bea",
   "metadata": {},
   "outputs": [],
   "source": [
    "# Window name in which image is displayed\n",
    "window_name = 'image'\n",
    "  \n",
    "# Using cv2.imshow() method \n",
    "# Displaying the image \n",
    "cv2.imshow(window_name, image)\n",
    "  \n",
    "#waits for user to press any key \n",
    "#(this is necessary to avoid Python kernel form crashing)\n",
    "cv2.waitKey(0) \n",
    "  \n",
    "#closing all open windows \n",
    "cv2.destroyAllWindows() "
   ]
  },
  {
   "cell_type": "code",
   "execution_count": null,
   "id": "924d8ead-00b8-4e7d-bf46-2e9d838aaed2",
   "metadata": {},
   "outputs": [],
   "source": [
    "image = cv2.imread('images/1.png')\n",
    "gray_image = cv2.cvtColor(image, cv2.COLOR_BGR2GRAY)\n",
    "histogram = cv2.calcHist([gray_image], [0],\n",
    "                         None, [256], [0, 256])"
   ]
  },
  {
   "cell_type": "code",
   "execution_count": null,
   "id": "a2bee4bd-2b1b-4c40-9ff2-32ce4299123b",
   "metadata": {},
   "outputs": [],
   "source": [
    "# data1 image\n",
    "image2 = cv2.imread('images/2.png')\n",
    "gray_image2 = cv2.cvtColor(image2, cv2.COLOR_BGR2GRAY)\n",
    "histogram2 = cv2.calcHist([gray_image2], [0],\n",
    "                          None, [256], [0, 256])"
   ]
  },
  {
   "cell_type": "code",
   "execution_count": null,
   "id": "1665e962-7322-4cb1-9671-36b1acbb8837",
   "metadata": {},
   "outputs": [],
   "source": [
    "c1, c2 = 0, 0\n",
    "  \n",
    "# Euclidean Distance between data1 and test\n",
    "i = 0\n",
    "while i<len(histogram) and i<len(histogram2):\n",
    "    c1+=(histogram[i]-histogram2[i])**2\n",
    "    i+= 1\n",
    "c1 = c1**(1 / 2)"
   ]
  },
  {
   "cell_type": "code",
   "execution_count": null,
   "id": "799fa13d-fd4e-4503-b07e-9774ab3f9095",
   "metadata": {},
   "outputs": [],
   "source": [
    "c1"
   ]
  },
  {
   "cell_type": "code",
   "execution_count": null,
   "id": "18ae0864-1262-49ed-9f59-afdd1e5686f2",
   "metadata": {},
   "outputs": [],
   "source": [
    "c1[0]"
   ]
  }
 ],
 "metadata": {
  "kernelspec": {
   "display_name": "Python 3 (ipykernel)",
   "language": "python",
   "name": "python3"
  },
  "language_info": {
   "codemirror_mode": {
    "name": "ipython",
    "version": 3
   },
   "file_extension": ".py",
   "mimetype": "text/x-python",
   "name": "python",
   "nbconvert_exporter": "python",
   "pygments_lexer": "ipython3",
   "version": "3.9.7"
  }
 },
 "nbformat": 4,
 "nbformat_minor": 5
}
