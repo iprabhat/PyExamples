{
 "cells": [
  {
   "cell_type": "code",
   "execution_count": null,
   "metadata": {},
   "outputs": [],
   "source": [
    "import numpy as np"
   ]
  },
  {
   "cell_type": "code",
   "execution_count": null,
   "metadata": {},
   "outputs": [],
   "source": [
    "a = \"1 2 3 4 5 6 7 8 9\"\n",
    "b = list(map(int, a.split()))\n",
    "arr = np.array(b)\n",
    "arr_new = np.reshape(arr, (3,3))\n",
    "print(arr_new)"
   ]
  },
  {
   "cell_type": "code",
   "execution_count": null,
   "metadata": {},
   "outputs": [],
   "source": [
    "m = [[[1,2,3],[4,5,6]],[[7,8,9],[10,11,12]]]\n",
    "mat = np.random.randn(5,1)\n",
    "print(mat)\n",
    "print(mat.shape)\n",
    "print(mat.reshape(mat.shape[0],-1).T)"
   ]
  },
  {
   "cell_type": "code",
   "execution_count": null,
   "metadata": {},
   "outputs": [],
   "source": [
    "s = \"BANANA\"\n",
    "for i in range(len(s)):\n",
    "    for j in range(len(s[i:])):\n",
    "        sub = s[i:i+j+1]\n",
    "        if len(sub) > 0:\n",
    "            print(sub)"
   ]
  }
 ],
 "metadata": {
  "kernelspec": {
   "display_name": "Python 3",
   "language": "python",
   "name": "python3"
  },
  "language_info": {
   "codemirror_mode": {
    "name": "ipython",
    "version": 3
   },
   "file_extension": ".py",
   "mimetype": "text/x-python",
   "name": "python",
   "nbconvert_exporter": "python",
   "pygments_lexer": "ipython3",
   "version": "3.6.9"
  }
 },
 "nbformat": 4,
 "nbformat_minor": 4
}
