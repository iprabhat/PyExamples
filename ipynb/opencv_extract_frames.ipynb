{
 "cells": [
  {
   "cell_type": "code",
   "execution_count": null,
   "id": "985b6fa1-69f3-4f35-b6cb-d6e71a409d11",
   "metadata": {
    "tags": []
   },
   "outputs": [],
   "source": [
    "import cv2\n",
    "import os"
   ]
  },
  {
   "cell_type": "code",
   "execution_count": null,
   "id": "8bca550d-e77e-4d4c-9f6d-0fa8c09c1197",
   "metadata": {
    "tags": []
   },
   "outputs": [],
   "source": [
    "cam = cv2.VideoCapture(\"vid.mp4\")\n",
    "  \n",
    "try:\n",
    "      \n",
    "    # creating a folder named data\n",
    "    if not os.path.exists('data'):\n",
    "        os.makedirs('data')\n",
    "  \n",
    "# if not created then raise error\n",
    "except OSError:\n",
    "    print ('Error: Creating directory of data')\n",
    "\n",
    "currentframe = 0\n",
    "ret,frame = cam.read()\n",
    "name = 'data/frame' + str(currentframe) + '.jpg'\n",
    "print ('Creating...' + name)\n",
    "  \n",
    "# writing the extracted images\n",
    "cv2.imwrite(name, frame)\n"
   ]
  },
  {
   "cell_type": "code",
   "execution_count": null,
   "id": "10fa1a2c-2e13-4f2a-aa7c-0223df0c388b",
   "metadata": {},
   "outputs": [],
   "source": []
  }
 ],
 "metadata": {
  "kernelspec": {
   "display_name": "Python 3 (ipykernel)",
   "language": "python",
   "name": "python3"
  },
  "language_info": {
   "codemirror_mode": {
    "name": "ipython",
    "version": 3
   },
   "file_extension": ".py",
   "mimetype": "text/x-python",
   "name": "python",
   "nbconvert_exporter": "python",
   "pygments_lexer": "ipython3",
   "version": "3.11.4"
  }
 },
 "nbformat": 4,
 "nbformat_minor": 5
}
