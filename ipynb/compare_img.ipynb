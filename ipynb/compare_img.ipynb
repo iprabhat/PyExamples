{
 "cells": [
  {
   "cell_type": "code",
   "execution_count": null,
   "id": "3d3213a4-5a48-4c45-941a-08e087ba21d3",
   "metadata": {},
   "outputs": [],
   "source": [
    "from PIL import Image\n",
    "import imagehash"
   ]
  },
  {
   "cell_type": "code",
   "execution_count": null,
   "id": "cf4366d3-254f-49ba-9f7a-78c0d2404527",
   "metadata": {},
   "outputs": [],
   "source": [
    "hash0 = imagehash.average_hash(Image.open('images/1.png')) \n",
    "hash1 = imagehash.average_hash(Image.open('images/2.png')) \n",
    "cutoff = 5  # maximum bits that could be different between the hashes. \n",
    "\n",
    "if hash0 - hash1 < cutoff:\n",
    "  print('images are similar')\n",
    "else:\n",
    "  print('images are not similar')"
   ]
  },
  {
   "cell_type": "code",
   "execution_count": null,
   "id": "367f6924-9714-4c87-981a-70c2f33b336c",
   "metadata": {},
   "outputs": [],
   "source": [
    "img1 = Image.open('images/1.png')\n",
    "img1.size"
   ]
  },
  {
   "cell_type": "code",
   "execution_count": null,
   "id": "d0bec5bf-2af9-41fc-9ae2-ec3e6d28e8cb",
   "metadata": {},
   "outputs": [],
   "source": [
    "img2 = Image.open('images/2.png')\n",
    "img2.size"
   ]
  }
 ],
 "metadata": {
  "kernelspec": {
   "display_name": "Python 3 (ipykernel)",
   "language": "python",
   "name": "python3"
  },
  "language_info": {
   "codemirror_mode": {
    "name": "ipython",
    "version": 3
   },
   "file_extension": ".py",
   "mimetype": "text/x-python",
   "name": "python",
   "nbconvert_exporter": "python",
   "pygments_lexer": "ipython3",
   "version": "3.8.11"
  }
 },
 "nbformat": 4,
 "nbformat_minor": 5
}
