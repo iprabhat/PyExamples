{
 "cells": [
  {
   "cell_type": "code",
   "execution_count": 3,
   "id": "c2bfb11b-e86f-491e-9010-bc3f41e3a837",
   "metadata": {
    "tags": []
   },
   "outputs": [],
   "source": [
    "from pathlib import Path\n",
    "import requests"
   ]
  },
  {
   "cell_type": "code",
   "execution_count": 4,
   "id": "e88d20ee-5c36-494a-b9d8-150b9eb17444",
   "metadata": {
    "tags": []
   },
   "outputs": [],
   "source": [
    "DATA_PATH = Path(\"Data\")\n",
    "PATH = DATA_PATH / \"mnist\"\n",
    "\n",
    "PATH.mkdir(parents=True, exist_ok=True)\n",
    "URL = \"https://github.com/pytorch/tutorials/raw/main/_static/\"\n",
    "FILENAME = \"mnist.pkl.gz\"\n",
    "\n",
    "if not (PATH / FILENAME).exists():\n",
    "    content = requests.get(URL + FILENAME).content\n",
    "    (PATH / FILENAME).open(\"wb\").write(content)"
   ]
  },
  {
   "cell_type": "code",
   "execution_count": 1,
   "id": "7a67f2d1-0030-465d-bdb0-c5203337d6d4",
   "metadata": {
    "tags": []
   },
   "outputs": [],
   "source": [
    "import pickle\n",
    "import gzip"
   ]
  },
  {
   "cell_type": "code",
   "execution_count": 5,
   "id": "02d465e7-c510-4a81-8403-a717ab5790ce",
   "metadata": {
    "tags": []
   },
   "outputs": [],
   "source": [
    "with gzip.open((PATH / FILENAME).as_posix(), \"rb\") as f:\n",
    "    ((x_train, y_train), (x_valid, y_valid), _) = pickle.load(f, encoding='latin-1')"
   ]
  },
  {
   "cell_type": "code",
   "execution_count": 6,
   "id": "129afda7-7256-437e-9716-1a6ef7aa1f79",
   "metadata": {
    "tags": []
   },
   "outputs": [],
   "source": [
    "from matplotlib import pyplot\n",
    "import numpy as np"
   ]
  },
  {
   "cell_type": "code",
   "execution_count": 7,
   "id": "263906d9-ee61-4002-8641-d1f709a0973d",
   "metadata": {},
   "outputs": [
    {
     "data": {
      "image/png": "[encoded data removed]",
      "text/plain": [
       "<Figure size 640x480 with 1 Axes>"
      ]
     },
     "metadata": {},
     "output_type": "display_data"
    },
    {
     "name": "stdout",
     "output_type": "stream",
     "text": [
      "(50000, 784)\n"
     ]
    }
   ],
   "source": [
    "pyplot.imshow(x_train[0].reshape((28,28)), cmap='gray')\n",
    "pyplot.show()\n",
    "print(x_train.shape)"
   ]
  },
  {
   "cell_type": "markdown",
   "id": "cfb5b6ff-899e-4666-a9dc-33b8a756a464",
   "metadata": {},
   "source": [
    "#### Convert numpy to torch.tensor"
   ]
  },
  {
   "cell_type": "code",
   "execution_count": 8,
   "id": "9ec81139-c143-4c7d-a565-4a6b73a98068",
   "metadata": {
    "tags": []
   },
   "outputs": [],
   "source": [
    "import torch"
   ]
  },
  {
   "cell_type": "code",
   "execution_count": 10,
   "id": "392e4e15-b3ac-4682-a59b-8ada336461d5",
   "metadata": {
    "tags": []
   },
   "outputs": [
    {
     "name": "stdout",
     "output_type": "stream",
     "text": [
      "torch.Size([50000, 784])\n",
      "tensor(0) tensor(9)\n"
     ]
    }
   ],
   "source": [
    "x_train, y_train, x_valid, y_valid = map(\n",
    "    torch.tensor, (x_train, y_train, x_valid, y_valid)\n",
    ")\n",
    "\n",
    "n, c = x_train.shape\n",
    "# print(x_train, y_train)\n",
    "print(x_train.shape)\n",
    "print(y_train.min(), y_train.max())"
   ]
  },
  {
   "cell_type": "markdown",
   "id": "de0f522b-9a4a-44ea-9956-6f3d11b3d08b",
   "metadata": {},
   "source": [
    "#### Neural Network from scratch (Without torch.nn)"
   ]
  },
  {
   "cell_type": "code",
   "execution_count": 31,
   "id": "bee46bd3-7d89-47ab-86a2-702e4e689c57",
   "metadata": {
    "tags": []
   },
   "outputs": [],
   "source": [
    "import math"
   ]
  },
  {
   "cell_type": "code",
   "execution_count": 32,
   "id": "e783e96e-1374-4032-a93a-f1b87eae3315",
   "metadata": {
    "tags": []
   },
   "outputs": [],
   "source": [
    "weights = torch.randn(784, 10) / math.sqrt(784)\n",
    "weights.requires_grad_()\n",
    "bias = torch.zeros(10, requires_grad = True)"
   ]
  },
  {
   "cell_type": "markdown",
   "id": "a136eb41-c9af-4bcd-a609-efb2424d0ef7",
   "metadata": {},
   "source": [
    "#### Activation function"
   ]
  },
  {
   "cell_type": "code",
   "execution_count": 33,
   "id": "2c081ea6-79a9-4a4e-ac68-11ee5f9c65a2",
   "metadata": {
    "tags": []
   },
   "outputs": [],
   "source": [
    "def log_softmax(x):\n",
    "    return x - x.exp().sum(-1).log().unsqueeze(-1)\n",
    "\n",
    "def model(xb):\n",
    "    return log_softmax(xb @ weights + bias)"
   ]
  },
  {
   "cell_type": "markdown",
   "id": "94fed513-c2c0-47c9-815b-f2c5beaad067",
   "metadata": {},
   "source": [
    "#### Forward pass"
   ]
  },
  {
   "cell_type": "code",
   "execution_count": 34,
   "id": "3fea31c8-1f1d-4b78-b206-ead49165fb29",
   "metadata": {
    "tags": []
   },
   "outputs": [
    {
     "name": "stdout",
     "output_type": "stream",
     "text": [
      "tensor([-2.3365, -2.2838, -2.3672, -2.4209, -2.4518, -2.1343, -2.2797, -2.4201,\n",
      "        -2.0129, -2.4128], grad_fn=<SelectBackward0>) torch.Size([64, 10])\n"
     ]
    }
   ],
   "source": [
    "bs = 64 # Batch size\n",
    "xb = x_train[0:bs]  # Mini batch from x_train\n",
    "preds = model(xb) # Predictions\n",
    "\n",
    "print(preds[0], preds.shape)\n"
   ]
  },
  {
   "cell_type": "code",
   "execution_count": 35,
   "id": "ed4c60d6-dbb3-474c-8eed-89d35ee606d1",
   "metadata": {
    "tags": []
   },
   "outputs": [
    {
     "name": "stdout",
     "output_type": "stream",
     "text": [
      "torch.Size([64, 784])\n",
      "torch.Size([50000, 784])\n",
      "torch.Size([10, 784])\n"
     ]
    }
   ],
   "source": [
    "print(xb.shape)\n",
    "print(x_train.shape)\n",
    "print(x_train[0:10].shape)"
   ]
  },
  {
   "cell_type": "markdown",
   "id": "a7a98d23-4107-4438-8224-7c9cc2720543",
   "metadata": {},
   "source": [
    "#### Define Loss Function (Negative Log Likelihood)"
   ]
  },
  {
   "cell_type": "code",
   "execution_count": 36,
   "id": "9045affb-b367-4a79-a95c-cb4f78ef3390",
   "metadata": {
    "tags": []
   },
   "outputs": [],
   "source": [
    "def nll(input, target):\n",
    "    return -input[range(target.shape[0]), target].mean()\n",
    "\n",
    "loss_fn = nll"
   ]
  },
  {
   "cell_type": "markdown",
   "id": "cd3b8076-58d0-423d-8271-06d3574723cf",
   "metadata": {},
   "source": [
    "#### Calculate Loss"
   ]
  },
  {
   "cell_type": "code",
   "execution_count": 37,
   "id": "2792aa63-82fb-40ea-9ccf-7135f0aaf29c",
   "metadata": {
    "tags": []
   },
   "outputs": [
    {
     "name": "stdout",
     "output_type": "stream",
     "text": [
      "tensor(2.4478, grad_fn=<NegBackward0>)\n"
     ]
    }
   ],
   "source": [
    "yb = y_train[0:bs]\n",
    "print(loss_fn(preds, yb))"
   ]
  },
  {
   "cell_type": "code",
   "execution_count": 38,
   "id": "011c4019-e905-43c0-b8d8-d812b64167ec",
   "metadata": {
    "tags": []
   },
   "outputs": [
    {
     "name": "stdout",
     "output_type": "stream",
     "text": [
      "tensor(5)\n"
     ]
    }
   ],
   "source": [
    "print(yb[0])"
   ]
  },
  {
   "cell_type": "markdown",
   "id": "931ed6cd-b8f7-420a-97f4-a8b4a9c69160",
   "metadata": {},
   "source": [
    "#### Function to calculate Accuracy of the model"
   ]
  },
  {
   "cell_type": "code",
   "execution_count": 39,
   "id": "f908a1fa-8f43-4ff1-a645-f169211253be",
   "metadata": {
    "tags": []
   },
   "outputs": [],
   "source": [
    "def accuracy(out, yb):\n",
    "    preds = torch.argmax(out, dim = 1)\n",
    "    return (preds == yb).float().mean()"
   ]
  },
  {
   "cell_type": "code",
   "execution_count": 40,
   "id": "32a9d345-5905-4012-88cb-140b748b48fb",
   "metadata": {
    "tags": []
   },
   "outputs": [
    {
     "name": "stdout",
     "output_type": "stream",
     "text": [
      "tensor(0.0938)\n"
     ]
    }
   ],
   "source": [
    "print(accuracy(preds, yb))"
   ]
  },
  {
   "cell_type": "markdown",
   "id": "3cd573c8-3d78-4ed5-93c2-11af7519f2b7",
   "metadata": {},
   "source": [
    "#### Training Loop"
   ]
  },
  {
   "cell_type": "code",
   "execution_count": 41,
   "id": "3b916cef-c206-43d5-a227-9dee20068b11",
   "metadata": {
    "tags": []
   },
   "outputs": [],
   "source": [
    "lr = 0.5 # Learning Rate\n",
    "epochs = 2 # How many epochs to train for\n",
    "\n",
    "for epoch in range(epochs):\n",
    "    for i in range((n-1) // bs + 1): # For each batch\n",
    "        start_i = i * bs\n",
    "        end_i = start_i + bs\n",
    "        xb = x_train[start_i:end_i]\n",
    "        yb = y_train[start_i:end_i]\n",
    "        pred = model(xb)        \n",
    "        loss = loss_fn(pred, yb) # Calculate loss\n",
    "        \n",
    "        loss.backward()\n",
    "        \n",
    "        with torch.no_grad():\n",
    "            weights -= weights.grad * lr\n",
    "            bias -= bias.grad * lr\n",
    "            weights.grad.zero_()\n",
    "            bias.grad.zero_()        \n",
    "        "
   ]
  },
  {
   "cell_type": "code",
   "execution_count": 42,
   "id": "995d6fd8-e905-40ec-b472-73bda9d9fbdf",
   "metadata": {
    "tags": []
   },
   "outputs": [
    {
     "name": "stdout",
     "output_type": "stream",
     "text": [
      "tensor(0.0801, grad_fn=<NegBackward0>) tensor(1.)\n"
     ]
    }
   ],
   "source": [
    "print(loss_fn(model(xb), yb), accuracy(model(xb), yb))"
   ]
  },
  {
   "cell_type": "markdown",
   "id": "35f1bc6c-9587-4a89-8eb2-fa98974be7e7",
   "metadata": {},
   "source": [
    "#### Implementaing the Neural Network using torch.nn"
   ]
  },
  {
   "cell_type": "code",
   "execution_count": 43,
   "id": "474bd6c5-9b6f-4e1a-9862-227f5211938d",
   "metadata": {
    "tags": []
   },
   "outputs": [],
   "source": [
    "import torch.nn.functional as F"
   ]
  },
  {
   "cell_type": "code",
   "execution_count": 44,
   "id": "edddd2b6-055c-4e94-8663-9bc049435ed2",
   "metadata": {
    "tags": []
   },
   "outputs": [],
   "source": [
    "loss_func = F.cross_entropy\n",
    "\n",
    "def model(xb):\n",
    "    return xb @ weights + bias"
   ]
  },
  {
   "cell_type": "code",
   "execution_count": 45,
   "id": "c03f6f91-bac1-4040-9cba-de6d3222af28",
   "metadata": {
    "tags": []
   },
   "outputs": [
    {
     "name": "stdout",
     "output_type": "stream",
     "text": [
      "tensor(0.0801, grad_fn=<NllLossBackward0>) tensor(1.)\n"
     ]
    }
   ],
   "source": [
    "print(loss_func(model(xb), yb), accuracy(model(xb), yb))"
   ]
  },
  {
   "cell_type": "markdown",
   "id": "3d4db668-a4ce-4188-b625-88f140100673",
   "metadata": {},
   "source": [
    "#### Refactor using nn.Module"
   ]
  },
  {
   "cell_type": "code",
   "execution_count": 46,
   "id": "e9060d4d-038e-494c-8169-ce02a03dab92",
   "metadata": {
    "tags": []
   },
   "outputs": [],
   "source": [
    "from torch import nn"
   ]
  },
  {
   "cell_type": "code",
   "execution_count": 47,
   "id": "643be445-6e8a-4a25-8051-17a0cc8db773",
   "metadata": {
    "tags": []
   },
   "outputs": [],
   "source": [
    "class Mnist_Logistic(nn.Module):\n",
    "    def __init__(self):\n",
    "        super().__init__()\n",
    "        self.weights = nn.Parameter(torch.randn(784, 10) / math.sqrt(784))\n",
    "        self.bias = nn.Parameter(torch.zeros(10))\n",
    "        \n",
    "    def forward(self, xb):\n",
    "        return xb @ self.weights + self.bias"
   ]
  },
  {
   "cell_type": "code",
   "execution_count": 48,
   "id": "88e90498-9c2a-4488-bd7d-9d13a7838104",
   "metadata": {
    "tags": []
   },
   "outputs": [],
   "source": [
    "model = Mnist_Logistic()"
   ]
  },
  {
   "cell_type": "code",
   "execution_count": 49,
   "id": "3c47d80c-5db4-4afa-8a3f-4eea2cb365a2",
   "metadata": {
    "tags": []
   },
   "outputs": [
    {
     "name": "stdout",
     "output_type": "stream",
     "text": [
      "tensor(2.3356, grad_fn=<NllLossBackward0>)\n"
     ]
    }
   ],
   "source": [
    "print(loss_func(model(xb), yb))"
   ]
  },
  {
   "cell_type": "markdown",
   "id": "8299f856-1e01-4d29-9f3f-7f9fabb6c5d9",
   "metadata": {
    "tags": []
   },
   "source": [
    "#### Training Loop uisng torch.nn"
   ]
  },
  {
   "cell_type": "code",
   "execution_count": 50,
   "id": "0755f6c9-9f1c-4240-a868-ef6f8e8421d0",
   "metadata": {
    "tags": []
   },
   "outputs": [],
   "source": [
    "def fit():\n",
    "    for epoch in range(epochs):\n",
    "        for i in range((n - 1) // bs + 1):\n",
    "            start_i = i * bs\n",
    "            end_i = start_i + bs\n",
    "            xb = x_train[start_i:end_i]\n",
    "            yb = y_train[start_i:end_i]\n",
    "            pred = model(xb)\n",
    "            loss = loss_func(pred, yb)\n",
    "            \n",
    "            loss.backward()\n",
    "            with torch.no_grad():\n",
    "                for p in model.parameters():\n",
    "                    p -= p.grad * lr\n",
    "                model.zero_grad()        "
   ]
  },
  {
   "cell_type": "code",
   "execution_count": 51,
   "id": "ca22b0a1-652a-4fe3-a94b-69bf093d5529",
   "metadata": {
    "tags": []
   },
   "outputs": [],
   "source": [
    "fit()"
   ]
  },
  {
   "cell_type": "code",
   "execution_count": 52,
   "id": "bc08b552-887f-4c8c-868b-69e4f9e9194a",
   "metadata": {
    "tags": []
   },
   "outputs": [
    {
     "name": "stdout",
     "output_type": "stream",
     "text": [
      "tensor(0.0786, grad_fn=<NllLossBackward0>)\n"
     ]
    }
   ],
   "source": [
    "print(loss_func(model(xb), yb))"
   ]
  },
  {
   "cell_type": "markdown",
   "id": "c8c0505a-a298-4924-a8de-e5b72a8bc1c8",
   "metadata": {},
   "source": [
    "#### Refactor using nn.Linear"
   ]
  },
  {
   "cell_type": "code",
   "execution_count": 53,
   "id": "c6b38308-87f0-4c12-809d-38e43378fc76",
   "metadata": {
    "tags": []
   },
   "outputs": [],
   "source": [
    "class Mnist_Logistic(nn.Module):\n",
    "    def __init__(self):\n",
    "        super().__init__()\n",
    "        self.lin = nn.Linear(784, 10)\n",
    "    \n",
    "    def forward(self, xb):\n",
    "        return self.lin(xb)"
   ]
  },
  {
   "cell_type": "code",
   "execution_count": 54,
   "id": "71759a0e-0682-4169-b750-52287d340e45",
   "metadata": {
    "tags": []
   },
   "outputs": [
    {
     "name": "stdout",
     "output_type": "stream",
     "text": [
      "tensor(2.3282, grad_fn=<NllLossBackward0>)\n"
     ]
    }
   ],
   "source": [
    "model = Mnist_Logistic()\n",
    "print(loss_func(model(xb), yb))"
   ]
  },
  {
   "cell_type": "code",
   "execution_count": 55,
   "id": "0358da60-0a3c-46e0-a88b-4ede60d735a3",
   "metadata": {
    "tags": []
   },
   "outputs": [
    {
     "name": "stdout",
     "output_type": "stream",
     "text": [
      "tensor(-8.3471, grad_fn=<NegBackward0>)\n"
     ]
    }
   ],
   "source": [
    "fit()\n",
    "print(loss_fn(model(xb), yb))"
   ]
  },
  {
   "cell_type": "markdown",
   "id": "26ed4f36-29a8-446e-bd79-d1e9f04ab201",
   "metadata": {},
   "source": [
    "#### Refactor using torch.optim"
   ]
  },
  {
   "cell_type": "code",
   "execution_count": 56,
   "id": "25e41fea-a33a-426c-b5c0-b6a98b693393",
   "metadata": {
    "tags": []
   },
   "outputs": [],
   "source": [
    "from torch import optim"
   ]
  },
  {
   "cell_type": "code",
   "execution_count": 57,
   "id": "a2aa91f3-0875-4be2-a6c9-d3e5d45b1e0e",
   "metadata": {
    "tags": []
   },
   "outputs": [],
   "source": [
    "def get_model():\n",
    "    model = Mnist_Logistic()\n",
    "    return model, optim.SGD(model.parameters(), lr=lr)"
   ]
  },
  {
   "cell_type": "code",
   "execution_count": 58,
   "id": "3cab9de2-fb0d-41fa-b7fb-758c197dbd0b",
   "metadata": {
    "tags": []
   },
   "outputs": [
    {
     "name": "stdout",
     "output_type": "stream",
     "text": [
      "tensor(2.3819, grad_fn=<NllLossBackward0>)\n"
     ]
    }
   ],
   "source": [
    "model, opt = get_model()\n",
    "print(loss_func(model(xb), yb))"
   ]
  },
  {
   "cell_type": "code",
   "execution_count": 59,
   "id": "62097065-e7ec-4eff-bbae-8f1453a29bd2",
   "metadata": {
    "tags": []
   },
   "outputs": [
    {
     "name": "stdout",
     "output_type": "stream",
     "text": [
      "tensor(0.0812, grad_fn=<NllLossBackward0>)\n"
     ]
    }
   ],
   "source": [
    "for epoch in range(epochs):\n",
    "    for i in range((n - 1) // bs + 1):\n",
    "        start_i = i * bs\n",
    "        end_i = start_i + bs\n",
    "        xb = x_train[start_i:end_i]\n",
    "        yb = y_train[start_i:end_i]\n",
    "        pred = model(xb)\n",
    "        loss = loss_func(pred, yb)\n",
    "        \n",
    "        loss.backward()\n",
    "        opt.step()\n",
    "        opt.zero_grad()\n",
    "\n",
    "print(loss_func(model(xb), yb))"
   ]
  },
  {
   "cell_type": "markdown",
   "id": "98dd3a60-ffc3-470d-95c6-583a9820f1bf",
   "metadata": {},
   "source": [
    "#### Refactor using Dataset"
   ]
  },
  {
   "cell_type": "code",
   "execution_count": 60,
   "id": "ff95b1e2-f09e-4ec2-95a7-6c1888111e94",
   "metadata": {
    "tags": []
   },
   "outputs": [],
   "source": [
    "from torch.utils.data import TensorDataset"
   ]
  },
  {
   "cell_type": "code",
   "execution_count": 61,
   "id": "2fc4c3dc-a4af-47dd-be34-a2bc36575267",
   "metadata": {
    "tags": []
   },
   "outputs": [],
   "source": [
    "train_ds = TensorDataset(x_train, y_train)"
   ]
  },
  {
   "cell_type": "code",
   "execution_count": 41,
   "id": "ffd5115e-3d8a-4305-87a9-4ffb12832666",
   "metadata": {
    "tags": []
   },
   "outputs": [
    {
     "name": "stdout",
     "output_type": "stream",
     "text": [
      "tensor(0.0807, grad_fn=<NllLossBackward0>)\n"
     ]
    }
   ],
   "source": [
    "model, opt = get_model()\n",
    "\n",
    "for epoch in range(epochs):\n",
    "    for i in range((n - 1) // bs + 1):\n",
    "        xb, yb = train_ds[i * bs : i * bs + bs]\n",
    "        pred = model(xb)\n",
    "        loss = loss_func(pred, yb)\n",
    "        \n",
    "        loss.backward()\n",
    "        opt.step()\n",
    "        opt.zero_grad()\n",
    "\n",
    "print(loss_func(model(xb), yb))"
   ]
  },
  {
   "cell_type": "markdown",
   "id": "73b512a3-9263-411f-956e-86e9b8a53e67",
   "metadata": {},
   "source": [
    "#### Refactor using DataLoader"
   ]
  },
  {
   "cell_type": "code",
   "execution_count": 65,
   "id": "d3f6a9fe-6781-471f-a223-e10d278c58e9",
   "metadata": {
    "tags": []
   },
   "outputs": [],
   "source": [
    "from torch.utils.data import DataLoader"
   ]
  },
  {
   "cell_type": "code",
   "execution_count": 66,
   "id": "f4f9cdd2-7d95-406d-b184-4d97fda40ef6",
   "metadata": {
    "tags": []
   },
   "outputs": [],
   "source": [
    "train_ds = TensorDataset(x_train, y_train)\n",
    "train_dl = DataLoader(train_ds, batch_size=bs)"
   ]
  },
  {
   "cell_type": "code",
   "execution_count": 67,
   "id": "e22ff56e-629e-4ac3-b660-09bb4584f978",
   "metadata": {
    "tags": []
   },
   "outputs": [
    {
     "name": "stdout",
     "output_type": "stream",
     "text": [
      "tensor(0.0808, grad_fn=<NllLossBackward0>)\n"
     ]
    }
   ],
   "source": [
    "# The loop will use the DataLoader to iterate the data\n",
    "\n",
    "model, opt = get_model()\n",
    "\n",
    "for epoch in range(epochs):\n",
    "    for xb, yb in train_dl:\n",
    "        pred = model(xb)\n",
    "        loss = loss_func(pred, yb)\n",
    "        \n",
    "        loss.backward()\n",
    "        opt.step()\n",
    "        opt.zero_grad()\n",
    "        \n",
    "print(loss_func(model(xb), yb))"
   ]
  },
  {
   "cell_type": "markdown",
   "id": "918978b1-1757-4ce4-a0e7-2c3753e7db19",
   "metadata": {},
   "source": [
    "#### Add Validation"
   ]
  },
  {
   "cell_type": "code",
   "execution_count": 68,
   "id": "b5d50d8a-7f48-4806-9ac3-fd6743c85aed",
   "metadata": {
    "tags": []
   },
   "outputs": [],
   "source": [
    "train_ds = TensorDataset(x_train, y_train)\n",
    "train_dl = DataLoader(train_ds, batch_size=bs ,shuffle=True)\n",
    "\n",
    "valid_ds = TensorDataset(x_valid, y_valid)\n",
    "valid_dl = DataLoader(valid_ds, batch_size=bs * 2)"
   ]
  },
  {
   "cell_type": "code",
   "execution_count": 46,
   "id": "177e0605-23dc-4e33-9e40-9ceb16d487d5",
   "metadata": {
    "tags": []
   },
   "outputs": [
    {
     "name": "stdout",
     "output_type": "stream",
     "text": [
      "0 tensor(0.3139)\n",
      "1 tensor(0.2826)\n"
     ]
    }
   ],
   "source": [
    "model, opt = get_model()\n",
    "\n",
    "for epoch in range(epochs):\n",
    "    model.train()\n",
    "    for xb, yb in train_dl:\n",
    "        pred = model(xb)\n",
    "        loss = loss_func(pred, yb)\n",
    "        \n",
    "        loss.backward()\n",
    "        opt.step()\n",
    "        opt.zero_grad()\n",
    "    \n",
    "    model.eval()\n",
    "    with torch.no_grad():\n",
    "        valid_loss = sum(loss_func(model(xb), yb) for xb, yb in valid_dl)\n",
    "        \n",
    "    print(epoch, valid_loss / len(valid_dl))\n"
   ]
  },
  {
   "cell_type": "markdown",
   "id": "e11f6e5f-ae5c-45f4-8eca-74aec9bc7f1a",
   "metadata": {},
   "source": [
    "#### Further refactoring by creating fit() and get_data() functions"
   ]
  },
  {
   "cell_type": "code",
   "execution_count": 74,
   "id": "9a7fe720-a864-43dc-bc30-d17eff3000b3",
   "metadata": {
    "tags": []
   },
   "outputs": [],
   "source": [
    "# loss_batch() function for computing training loss and validation loss\n",
    "\n",
    "def loss_batch(model, loss_func, xb, yb, opt=None):\n",
    "    loss = loss_func(model(xb), yb)\n",
    "    \n",
    "    if opt is not None:\n",
    "        loss.backward()\n",
    "        opt.step()\n",
    "        opt.zero_grad()\n",
    "    \n",
    "    return loss.item(), len(xb)"
   ]
  },
  {
   "cell_type": "code",
   "execution_count": 75,
   "id": "85acc57a-8688-43d0-98cc-c23d0d7e2088",
   "metadata": {
    "tags": []
   },
   "outputs": [],
   "source": [
    "import numpy as np\n",
    "\n",
    "def fit(epochs, model, loss_func, opt, train_dl, valid_dl):\n",
    "    for epoch in range(epochs):\n",
    "        model.train()\n",
    "        for xb, yb in train_dl:\n",
    "            loss_batch(model, loss_func, xb, yb, opt)\n",
    "        \n",
    "        model.eval()\n",
    "        with torch.no_grad():\n",
    "            losses, nums = zip(\n",
    "                *[loss_batch(model, loss_func, xb, yb) for xb, yb in valid_dl]\n",
    "            )\n",
    "        val_loss = np.sum(np.multiply(losses, nums)) / np.sum(nums)\n",
    "        \n",
    "        print(epoch, val_loss)"
   ]
  },
  {
   "cell_type": "code",
   "execution_count": 76,
   "id": "80167d22-c367-4ec9-b4db-7309585d52d0",
   "metadata": {
    "tags": []
   },
   "outputs": [],
   "source": [
    "def get_data(train_ds, valid_ds, bs):\n",
    "    return (\n",
    "        DataLoader(train_ds, batch_size=bs, shuffle=True),\n",
    "        DataLoader(valid_ds, batch_size=bs*2),\n",
    "    )"
   ]
  },
  {
   "cell_type": "code",
   "execution_count": 77,
   "id": "b18968c4-501e-4fe9-9c40-1fe3cce1ee0f",
   "metadata": {
    "tags": []
   },
   "outputs": [
    {
     "name": "stdout",
     "output_type": "stream",
     "text": [
      "0 0.3426383385181427\n",
      "1 0.3085787388324738\n"
     ]
    }
   ],
   "source": [
    "# Now the whole process of obtaining the data loaders and fitting the model can be run in 3 lines of code\n",
    "\n",
    "train_dl, valid_dl = get_data(train_ds, valid_ds, bs)\n",
    "model, opt = get_model()\n",
    "fit(epochs, model, loss_func, opt, train_dl, valid_dl)"
   ]
  },
  {
   "cell_type": "markdown",
   "id": "5863cce2-5029-40d2-b8b0-2aae229e1e54",
   "metadata": {},
   "source": [
    "#### Switching to CNN"
   ]
  },
  {
   "cell_type": "code",
   "execution_count": 78,
   "id": "3929ea4e-5812-464c-96c8-2b01e42bc99f",
   "metadata": {},
   "outputs": [],
   "source": [
    "class Mnist_CNN(nn.Module):\n",
    "    def __init__(self):\n",
    "        super().__init__()\n",
    "        self.conv1 = nn.Conv2d(1, 16, kernel_size=3, stride=2, padding=1)\n",
    "        self.conv2 = nn.Conv2d(16, 16, kernel_size=3, stride=2, padding=1)\n",
    "        self.conv3 = nn.Conv2d(16, 10, kernel_size=3, stride=2, padding=1)\n",
    "        \n",
    "    def forward(self, xb):\n",
    "        xb = xb.view(-1, 1, 28, 28)\n",
    "        xb = F.relu(self.conv1(xb))\n",
    "        xb = F.relu(self.conv2(xb))\n",
    "        xb = F.relu(self.conv3(xb))\n",
    "        xb = F.avg_pool2d(xb, 4)\n",
    "        return xb.view(-1, xb.size(1))\n",
    "\n",
    "lr = 0.1"
   ]
  },
  {
   "cell_type": "markdown",
   "id": "a74ff08f-1c6d-47df-953b-6a4e04555f3b",
   "metadata": {},
   "source": [
    "#### Adding Momentum"
   ]
  },
  {
   "cell_type": "code",
   "execution_count": 79,
   "id": "5e431a92-e5c3-4330-a1d8-bcbcd5e20979",
   "metadata": {
    "tags": []
   },
   "outputs": [
    {
     "name": "stdout",
     "output_type": "stream",
     "text": [
      "0 0.3337317136287689\n",
      "1 0.2805014047622681\n"
     ]
    }
   ],
   "source": [
    "model = Mnist_CNN()\n",
    "opt = optim.SGD(model.parameters(),lr=lr, momentum=0.9)\n",
    "\n",
    "fit(epochs, model, loss_func, opt, train_dl, valid_dl)"
   ]
  },
  {
   "cell_type": "markdown",
   "id": "be394609-34d6-44cb-8103-75639230cbae",
   "metadata": {},
   "source": [
    "#### Using nn.Sequential"
   ]
  },
  {
   "cell_type": "code",
   "execution_count": 80,
   "id": "9c28ae5d-5a5a-4487-99a1-4d8531c1b75d",
   "metadata": {
    "tags": []
   },
   "outputs": [],
   "source": [
    "# Pytorch does not have a view layer, we need to define a custom layer from a given function\n",
    "\n",
    "class Lambda(nn.Module):\n",
    "    def __init__(self, func):\n",
    "        super().__init__()\n",
    "        self.func = func\n",
    "        \n",
    "    def forward(self, x):\n",
    "        return self.func(x)\n",
    "    \n",
    "def preprocess(x):\n",
    "    return x.view(-1, 1, 28, 28)"
   ]
  },
  {
   "cell_type": "code",
   "execution_count": 81,
   "id": "5458df7a-91a4-4483-bc6e-dcbaa8ebfefc",
   "metadata": {
    "tags": []
   },
   "outputs": [
    {
     "name": "stdout",
     "output_type": "stream",
     "text": [
      "0 0.36729470658302305\n",
      "1 0.258663553583622\n"
     ]
    }
   ],
   "source": [
    "model = nn.Sequential(\n",
    "    Lambda(preprocess),\n",
    "    nn.Conv2d(1, 16, kernel_size=3, stride=2, padding=1),\n",
    "    nn.ReLU(),\n",
    "    nn.Conv2d(16, 16, kernel_size=3, stride=2, padding=1),\n",
    "    nn.ReLU(),\n",
    "    nn.Conv2d(16, 10, kernel_size=3, stride=2, padding=1),\n",
    "    nn.ReLU(),\n",
    "    nn.AvgPool2d(4),\n",
    "    Lambda(lambda x : x.view(x.size(0), -1)),\n",
    ")\n",
    "\n",
    "opt = optim.SGD(model.parameters(), lr=lr, momentum=0.9)\n",
    "fit(epochs, model, loss_func, opt, train_dl, valid_dl)"
   ]
  },
  {
   "cell_type": "markdown",
   "id": "c40f1914-739b-4204-9b42-6593517276ad",
   "metadata": {},
   "source": [
    "#### Wrapping Dataloader"
   ]
  },
  {
   "cell_type": "code",
   "execution_count": 82,
   "id": "7ce87262-b018-4f21-ba86-0917a73c8729",
   "metadata": {
    "tags": []
   },
   "outputs": [],
   "source": [
    "def preprocess(x, y):\n",
    "    return x.view(-1, 1, 28, 28), y\n",
    "\n",
    "class WrappedDataLoader:\n",
    "    def __init__(self, dl, func):\n",
    "        self.dl = dl\n",
    "        self.func = func\n",
    "        \n",
    "    def __len__(self):\n",
    "        return len(self.dl)\n",
    "    \n",
    "    def __iter__(self):\n",
    "        for b in self.dl:\n",
    "            yield (self.func(*b))\n",
    "\n",
    "train_dl, valid_dl = get_data(train_ds, valid_ds, bs)\n",
    "train_dl = WrappedDataLoader(train_dl, preprocess)\n",
    "valid_dl = WrappedDataLoader(valid_dl, preprocess)"
   ]
  },
  {
   "cell_type": "code",
   "execution_count": 83,
   "id": "e8bd4321-2cc7-46a6-90f3-41d027ae443b",
   "metadata": {
    "tags": []
   },
   "outputs": [],
   "source": [
    "# Replace nn.AvgPool2D with nn.AdaptiveAvgPool2d, which allows us to define the size of the output tensor we want, rather than the input tensor we have\n",
    "\n",
    "model = nn.Sequential(\n",
    "    nn.Conv2d(1, 16, kernel_size=3, stride=2, padding=1),\n",
    "    nn.ReLU(),\n",
    "    nn.Conv2d(16, 16, kernel_size=3, stride=2, padding=1),\n",
    "    nn.ReLU(),\n",
    "    nn.Conv2d(16, 10, kernel_size=3, stride=2, padding=1),\n",
    "    nn.ReLU(),\n",
    "    nn.AdaptiveAvgPool2d(1),\n",
    "    Lambda(lambda x : x.view(x.size(0), -1))\n",
    ")\n",
    "\n",
    "opt = optim.SGD(model.parameters(), lr=lr, momentum=0.9)"
   ]
  },
  {
   "cell_type": "code",
   "execution_count": 84,
   "id": "f542a97d-f8cd-4bd0-a488-075b8499bf45",
   "metadata": {
    "tags": []
   },
   "outputs": [
    {
     "name": "stdout",
     "output_type": "stream",
     "text": [
      "0 0.34237602610588075\n",
      "1 0.2460009852528572\n"
     ]
    }
   ],
   "source": [
    "fit(epochs, model, loss_func, opt, train_dl, valid_dl)"
   ]
  },
  {
   "cell_type": "markdown",
   "id": "257842eb-3da4-4bc9-beb5-6c580c322fa5",
   "metadata": {},
   "source": [
    "#### Using GPU"
   ]
  },
  {
   "cell_type": "code",
   "execution_count": 85,
   "id": "b5169d7a-7ec7-45f7-afad-fc02a549327b",
   "metadata": {
    "tags": []
   },
   "outputs": [
    {
     "name": "stdout",
     "output_type": "stream",
     "text": [
      "True\n"
     ]
    }
   ],
   "source": [
    "print(torch.cuda.is_available())"
   ]
  },
  {
   "cell_type": "code",
   "execution_count": 86,
   "id": "6f72d20a-9bbe-4aba-8a3e-6727820561f4",
   "metadata": {},
   "outputs": [],
   "source": [
    "dev = torch.device(\"cuda\") if torch.cuda.is_available() else torch.device(\"cpu\")"
   ]
  },
  {
   "cell_type": "code",
   "execution_count": 87,
   "id": "51681fdf-1f53-45e8-96ea-965b7c3723c2",
   "metadata": {
    "tags": []
   },
   "outputs": [
    {
     "name": "stdout",
     "output_type": "stream",
     "text": [
      "cuda\n"
     ]
    }
   ],
   "source": [
    "print(dev)"
   ]
  },
  {
   "cell_type": "markdown",
   "id": "b73040a0-3d8f-4076-92a1-b1e1b0da7899",
   "metadata": {
    "tags": []
   },
   "source": [
    "#### Update preprocess to move batches to cuda"
   ]
  },
  {
   "cell_type": "code",
   "execution_count": 89,
   "id": "99045014-fb54-4b2f-a178-9d45851c1610",
   "metadata": {
    "tags": []
   },
   "outputs": [],
   "source": [
    "def preprocess(x, y):\n",
    "    return x.view(-1, 1, 28, 28).to(dev), y.to(dev)\n",
    "\n",
    "train_dl, valid_dl = get_data(train_ds, valid_ds, bs)\n",
    "train_dl = WrappedDataLoader(train_dl, preprocess)\n",
    "valid_dl = WrappedDataLoader(valid_dl, preprocess)"
   ]
  },
  {
   "cell_type": "markdown",
   "id": "aa2509f6-e444-4a1b-9741-a90082acafcb",
   "metadata": {},
   "source": [
    "#### Move model to GPU"
   ]
  },
  {
   "cell_type": "code",
   "execution_count": 90,
   "id": "4376bd41-de90-4a71-85e2-b45c20fe4185",
   "metadata": {
    "tags": []
   },
   "outputs": [],
   "source": [
    "model.to(dev)\n",
    "opt = optim.SGD(model.parameters(), lr=lr, momentum=0.9)"
   ]
  },
  {
   "cell_type": "code",
   "execution_count": 92,
   "id": "41d1584b-fd27-4395-90da-4a4a607f498d",
   "metadata": {
    "tags": []
   },
   "outputs": [
    {
     "name": "stdout",
     "output_type": "stream",
     "text": [
      "0 0.15985668954253196\n",
      "1 0.14420475814938546\n"
     ]
    }
   ],
   "source": [
    "fit(epochs, model, loss_func, opt, train_dl, valid_dl)"
   ]
  },
  {
   "cell_type": "code",
   "execution_count": null,
   "id": "6fff13df-8c41-4c0b-9bb5-2a027df544ae",
   "metadata": {},
   "outputs": [],
   "source": []
  }
 ],
 "metadata": {
  "kernelspec": {
   "display_name": "Python 3 (ipykernel)",
   "language": "python",
   "name": "python3"
  },
  "language_info": {
   "codemirror_mode": {
    "name": "ipython",
    "version": 3
   },
   "file_extension": ".py",
   "mimetype": "text/x-python",
   "name": "python",
   "nbconvert_exporter": "python",
   "pygments_lexer": "ipython3",
   "version": "3.11.4"
  }
 },
 "nbformat": 4,
 "nbformat_minor": 5
}
