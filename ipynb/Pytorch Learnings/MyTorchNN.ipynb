{
 "cells": [
  {
   "cell_type": "code",
   "execution_count": 2,
   "id": "072208aa-e02b-441f-ae35-c3145c17008b",
   "metadata": {
    "tags": []
   },
   "outputs": [],
   "source": [
    "from pathlib import Path"
   ]
  },
  {
   "cell_type": "code",
   "execution_count": 3,
   "id": "dfbd79af-ea06-490f-abc0-c41b6dfb6a72",
   "metadata": {
    "tags": []
   },
   "outputs": [
    {
     "name": "stdout",
     "output_type": "stream",
     "text": [
      "Data\\mnist\n"
     ]
    }
   ],
   "source": [
    "DATA_PATH = Path(\"Data\")\n",
    "PATH = DATA_PATH / \"mnist\"\n",
    "FILENAME = \"mnist.pkl.gz\"\n",
    "\n",
    "print(PATH)"
   ]
  },
  {
   "cell_type": "code",
   "execution_count": 4,
   "id": "7e572f7f-9032-406f-9718-667bc24daf85",
   "metadata": {
    "tags": []
   },
   "outputs": [],
   "source": [
    "import pickle\n",
    "import gzip"
   ]
  },
  {
   "cell_type": "code",
   "execution_count": 5,
   "id": "42329737-9db8-48cd-adcb-a51cd593693e",
   "metadata": {
    "tags": []
   },
   "outputs": [],
   "source": [
    "with gzip.open((PATH / FILENAME).as_posix(), \"rb\") as f:\n",
    "    ((x_train, y_train), (x_valid, y_valid), _) = pickle.load(f, encoding='latin-1')"
   ]
  },
  {
   "cell_type": "code",
   "execution_count": 6,
   "id": "1a35e4fb-548d-40fb-8a98-859c4afccb6e",
   "metadata": {
    "tags": []
   },
   "outputs": [],
   "source": [
    "from matplotlib import pyplot as plt\n",
    "import numpy as np"
   ]
  },
  {
   "cell_type": "code",
   "execution_count": 6,
   "id": "2ed838fd-d3b8-4391-8172-22a652a1c7c2",
   "metadata": {
    "tags": []
   },
   "outputs": [
    {
     "name": "stdout",
     "output_type": "stream",
     "text": [
      "2\n"
     ]
    },
    {
     "data": {
      "image/png": "[encoded data removed]",
      "text/plain": [
       "<Figure size 640x480 with 1 Axes>"
      ]
     },
     "metadata": {},
     "output_type": "display_data"
    }
   ],
   "source": [
    "plt.imshow(x_train[5].reshape((28,28)), cmap='gray')\n",
    "print(y_train[5])\n",
    "plt.show()"
   ]
  },
  {
   "cell_type": "markdown",
   "id": "e81805ff-b260-4597-bbba-159b92dc820a",
   "metadata": {},
   "source": [
    "### Convert numpy dataset to torch tensor"
   ]
  },
  {
   "cell_type": "code",
   "execution_count": 7,
   "id": "991f3d9b-8e48-49d1-bbeb-af47e0666729",
   "metadata": {
    "tags": []
   },
   "outputs": [],
   "source": [
    "import torch"
   ]
  },
  {
   "cell_type": "code",
   "execution_count": 8,
   "id": "e4e06931-81d7-4416-88ed-cc2206d682e2",
   "metadata": {
    "tags": []
   },
   "outputs": [],
   "source": [
    "x_train, y_train, x_valid, y_valid = map( torch.tensor, (x_train, y_train, x_valid, y_valid))"
   ]
  },
  {
   "cell_type": "markdown",
   "id": "5c249747-7afe-4c9a-8907-740f4726f89c",
   "metadata": {},
   "source": [
    "#### Simple Test"
   ]
  },
  {
   "cell_type": "code",
   "execution_count": 34,
   "id": "4b248ff8-24a6-44e9-a62c-3308291bf0d6",
   "metadata": {
    "tags": []
   },
   "outputs": [
    {
     "name": "stdout",
     "output_type": "stream",
     "text": [
      "tensor([[0.2769, 0.8631, 0.5069, 0.3141],\n",
      "        [0.7911, 0.8117, 0.1683, 0.9284],\n",
      "        [0.3433, 0.3075, 0.0151, 0.5270]])\n"
     ]
    }
   ],
   "source": [
    "# print(x_train[0].view(-1,1,28,28).shape)\n",
    "# print(x_train[0].shape)\n",
    "\n",
    "t = torch.rand(3,4)\n",
    "print(t)"
   ]
  },
  {
   "cell_type": "code",
   "execution_count": 35,
   "id": "288ad8c1-0571-4104-a5a3-085a9a5eb1c5",
   "metadata": {
    "tags": []
   },
   "outputs": [
    {
     "name": "stdout",
     "output_type": "stream",
     "text": [
      "tensor([[[[0.2769, 0.8631, 0.5069, 0.3141],\n",
      "          [0.7911, 0.8117, 0.1683, 0.9284],\n",
      "          [0.3433, 0.3075, 0.0151, 0.5270]]]])\n"
     ]
    }
   ],
   "source": [
    "v = t.view(1,1,3,4)\n",
    "print(v)"
   ]
  },
  {
   "cell_type": "code",
   "execution_count": 37,
   "id": "ee076c95-821e-473b-960f-9935f9fbd94f",
   "metadata": {
    "tags": []
   },
   "outputs": [
    {
     "name": "stdout",
     "output_type": "stream",
     "text": [
      "tensor([[[[0.2769, 0.8631, 0.5069, 0.3141],\n",
      "          [0.7911, 0.8117, 0.1683, 0.9284],\n",
      "          [0.3433, 0.3075, 0.0151, 0.5270]]]])\n"
     ]
    }
   ],
   "source": [
    "w = t.view(-1,1,3,4)\n",
    "print(w)"
   ]
  },
  {
   "cell_type": "code",
   "execution_count": 58,
   "id": "0d8f3fd0-41a2-423c-947c-0449601a922e",
   "metadata": {
    "tags": []
   },
   "outputs": [
    {
     "name": "stdout",
     "output_type": "stream",
     "text": [
      "torch.Size([12])\n",
      "12\n"
     ]
    }
   ],
   "source": [
    "x = t.view(12)\n",
    "print(x.shape)\n",
    "print(x.size(0))"
   ]
  },
  {
   "cell_type": "markdown",
   "id": "7581ebb6-5f6e-4aff-9da8-774004c73ac2",
   "metadata": {},
   "source": [
    "### Refactoring Dataset"
   ]
  },
  {
   "cell_type": "code",
   "execution_count": 9,
   "id": "5f903419-b4b6-4e86-8346-bfc7e75627b1",
   "metadata": {
    "tags": []
   },
   "outputs": [],
   "source": [
    "from torch.utils.data import TensorDataset\n",
    "from torch.utils.data import DataLoader"
   ]
  },
  {
   "cell_type": "code",
   "execution_count": 10,
   "id": "112b0fc5-41e6-4fd5-bbc4-b71ae2c7ed9c",
   "metadata": {
    "tags": []
   },
   "outputs": [],
   "source": [
    "batch_size = 64"
   ]
  },
  {
   "cell_type": "code",
   "execution_count": 11,
   "id": "2e754fd2-2911-45c1-86f5-ba9e5979c556",
   "metadata": {
    "tags": []
   },
   "outputs": [],
   "source": [
    "train_ds = TensorDataset(x_train, y_train)\n",
    "train_dl = DataLoader(train_ds, batch_size=batch_size, shuffle=True)\n",
    "\n",
    "valid_ds = TensorDataset(x_valid, y_valid)\n",
    "valid_dl = DataLoader(valid_ds, batch_size=batch_size, shuffle=True)"
   ]
  },
  {
   "cell_type": "code",
   "execution_count": 12,
   "id": "34ff2332-5468-4aa8-a242-a705744732dc",
   "metadata": {
    "tags": []
   },
   "outputs": [],
   "source": [
    "# Function to get the dataset\n",
    "def get_dataset(train_ds, valid_ds, batch_size):\n",
    "    return (\n",
    "        DataLoader(train_ds, batch_size=batch_size, shuffle=True),\n",
    "        DataLoader(valid_ds, batch_size=batch_size*2)\n",
    "    )"
   ]
  },
  {
   "cell_type": "markdown",
   "id": "8d491f23-8979-49d4-84e6-16c71bf2514e",
   "metadata": {},
   "source": [
    "### Training model using Neural Network"
   ]
  },
  {
   "cell_type": "code",
   "execution_count": 14,
   "id": "1f4a749e-506d-495d-9b8e-d1bf8a7f715d",
   "metadata": {
    "tags": []
   },
   "outputs": [],
   "source": [
    "# Set up device (CPU / CUDA)\n",
    "dev = torch.device(\"cuda\") if torch.cuda.is_available() else torch.device(\"cpu\")\n",
    "# dev = torch.device(\"cpu\")"
   ]
  },
  {
   "cell_type": "code",
   "execution_count": 16,
   "id": "62bfdd68-721a-4a48-aead-3b87703d8cc6",
   "metadata": {
    "tags": []
   },
   "outputs": [],
   "source": [
    "from torch import nn\n",
    "import torch.nn.functional as F"
   ]
  },
  {
   "cell_type": "code",
   "execution_count": 17,
   "id": "5a6a952d-a91f-4ef9-a1df-e4677ede81d9",
   "metadata": {
    "tags": []
   },
   "outputs": [],
   "source": [
    "loss_func = F.cross_entropy"
   ]
  },
  {
   "cell_type": "code",
   "execution_count": 18,
   "id": "86fcd149-900b-486b-a434-b60b3cdfd699",
   "metadata": {
    "tags": []
   },
   "outputs": [],
   "source": [
    "lr = 0.5\n",
    "epochs = 10"
   ]
  },
  {
   "cell_type": "code",
   "execution_count": 45,
   "id": "fb146dc4-4834-45b5-825c-bb6d34d81ab1",
   "metadata": {
    "tags": []
   },
   "outputs": [],
   "source": [
    "class Mnist_NN(nn.Module):\n",
    "    def __init__(self):\n",
    "        super().__init__()\n",
    "        self.lin = nn.Linear(784, 10)\n",
    "        \n",
    "    def forward(self, xb):\n",
    "        return self.lin(xb)"
   ]
  },
  {
   "cell_type": "code",
   "execution_count": 19,
   "id": "66e6eca5-1690-4415-89ee-1f44fd7e258d",
   "metadata": {
    "tags": []
   },
   "outputs": [],
   "source": [
    "from torch import optim"
   ]
  },
  {
   "cell_type": "code",
   "execution_count": 48,
   "id": "a26833f1-ceab-4a5d-95b2-48d83e360c52",
   "metadata": {
    "tags": []
   },
   "outputs": [],
   "source": [
    "def get_model():\n",
    "    md = Mnist_NN()\n",
    "    return md, optim.SGD(md.parameters(), lr=lr)"
   ]
  },
  {
   "cell_type": "code",
   "execution_count": 41,
   "id": "33908902-b9ca-488d-91ba-bee1e3ace246",
   "metadata": {
    "tags": []
   },
   "outputs": [],
   "source": [
    "def batch_loss(model, loss_func, xb, yb, opt=None):\n",
    "    xb = xb.to(dev)\n",
    "    yb = yb.to(dev)\n",
    "    loss = loss_func(model(xb), yb)\n",
    "    \n",
    "    if opt is not None:\n",
    "        loss.backward()\n",
    "        opt.step()\n",
    "        opt.zero_grad()    \n",
    "    return loss.item(), len(xb)"
   ]
  },
  {
   "cell_type": "code",
   "execution_count": 21,
   "id": "8eab621b-8acf-4ee0-9e2d-b0065289abc7",
   "metadata": {
    "tags": []
   },
   "outputs": [],
   "source": [
    "import numpy as np"
   ]
  },
  {
   "cell_type": "code",
   "execution_count": 36,
   "id": "fdadb225-5d43-462d-983d-cde20280ee44",
   "metadata": {
    "tags": []
   },
   "outputs": [],
   "source": [
    "def fit(epochs, model, loss_func, opt, train_dl, valid_dl):\n",
    "    for epoch in range(epochs):\n",
    "        model.train()\n",
    "        for xb, yb in train_dl:           \n",
    "            batch_loss(model, loss_func, xb, yb, opt)\n",
    "            \n",
    "        model.eval()\n",
    "        with torch.no_grad():\n",
    "            losses, nums = zip(\n",
    "                *[batch_loss(model, loss_func, xb, yb) for xb, yb in valid_dl]\n",
    "            )\n",
    "            val_loss = np.sum(np.multiply(losses, nums)) / np.sum(nums)\n",
    "            print(f\"Epoch: {epoch}, Validation Loss : {val_loss}\")\n"
   ]
  },
  {
   "cell_type": "code",
   "execution_count": 55,
   "id": "e4b4c214-c8d5-4cb4-8a8a-ded166f0059d",
   "metadata": {
    "tags": []
   },
   "outputs": [
    {
     "name": "stdout",
     "output_type": "stream",
     "text": [
      "Epoch: 0, Validation Loss : 0.3901370860338211\n",
      "Epoch: 1, Validation Loss : 0.3253895290017128\n",
      "Epoch: 2, Validation Loss : 0.32348976501226423\n",
      "Epoch: 3, Validation Loss : 0.31267363609075544\n",
      "Epoch: 4, Validation Loss : 0.28677646321058275\n",
      "Epoch: 5, Validation Loss : 0.3314970516383648\n",
      "Epoch: 6, Validation Loss : 0.28660190801620483\n",
      "Epoch: 7, Validation Loss : 0.317992845928669\n",
      "Epoch: 8, Validation Loss : 0.289930458432436\n",
      "Epoch: 9, Validation Loss : 0.28539083164930346\n"
     ]
    }
   ],
   "source": [
    "# Start training the model\n",
    "train_dl, valid_dl = get_dataset(train_ds, valid_ds, batch_size)\n",
    "model, opt = get_model()\n",
    "fit(epochs, model, loss_func, opt, train_dl, valid_dl)"
   ]
  },
  {
   "cell_type": "markdown",
   "id": "597badbc-0d36-4106-b341-908228f6b3bc",
   "metadata": {},
   "source": [
    "### Training Model with Convolutional Neural Network"
   ]
  },
  {
   "cell_type": "code",
   "execution_count": 23,
   "id": "6434cde7-ad91-4445-ac70-0a2c7ab38361",
   "metadata": {
    "tags": []
   },
   "outputs": [],
   "source": [
    "class Mnist_CNN(nn.Module):\n",
    "    def __init__(self):\n",
    "        super().__init__()\n",
    "        self.conv1 = nn.Conv2d(1, 16, kernel_size=3, stride=2, padding=1)\n",
    "        self.conv2 = nn.Conv2d(16, 16, kernel_size=3, stride=2, padding=1)\n",
    "        self.conv3 = nn.Conv2d(16, 10, kernel_size=3, stride=2, padding=1)\n",
    "    \n",
    "    def forward(self, xb):\n",
    "        xb = xb.view(-1, 1, 28, 28)\n",
    "        xb = F.relu(self.conv1(xb))\n",
    "        xb = F.relu(self.conv2(xb))\n",
    "        xb = F.relu(self.conv3(xb))        \n",
    "        xb = F.avg_pool2d(xb, 4)\n",
    "        return xb.view(-1, xb.size(1))\n",
    "lr = 0.1\n"
   ]
  },
  {
   "cell_type": "code",
   "execution_count": 60,
   "id": "d90471d7-4144-4322-921e-cf7b7bf6a010",
   "metadata": {
    "tags": []
   },
   "outputs": [
    {
     "name": "stdout",
     "output_type": "stream",
     "text": [
      "Epoch: 0, Validation Loss : 0.3224748212337494\n",
      "Epoch: 1, Validation Loss : 0.31573773285746576\n",
      "Epoch: 2, Validation Loss : 0.232510185110569\n",
      "Epoch: 3, Validation Loss : 0.1854968361377716\n",
      "Epoch: 4, Validation Loss : 0.18164973075389862\n",
      "Epoch: 5, Validation Loss : 0.16128492228388785\n",
      "Epoch: 6, Validation Loss : 0.142274890011549\n",
      "Epoch: 7, Validation Loss : 0.14527072166204452\n",
      "Epoch: 8, Validation Loss : 0.1562840872526169\n",
      "Epoch: 9, Validation Loss : 0.1431595022559166\n"
     ]
    }
   ],
   "source": [
    "## Training CNN in (CPU)\n",
    "model = Mnist_CNN()\n",
    "opt = optim.SGD(model.parameters(), lr=lr, momentum=0.9)\n",
    "fit(epochs, model, loss_func, opt, train_dl, valid_dl)"
   ]
  },
  {
   "cell_type": "markdown",
   "id": "2bcff67c-656d-40c8-b307-8e033e383a51",
   "metadata": {},
   "source": [
    "### Moving to GPU"
   ]
  },
  {
   "cell_type": "code",
   "execution_count": 37,
   "id": "28462b7f-7fec-4710-b365-57a7af027cba",
   "metadata": {
    "tags": []
   },
   "outputs": [
    {
     "name": "stdout",
     "output_type": "stream",
     "text": [
      "True\n"
     ]
    }
   ],
   "source": [
    "print(torch.cuda.is_available())"
   ]
  },
  {
   "cell_type": "code",
   "execution_count": 57,
   "id": "d8835896-0ea4-437a-98f9-e592fa63be70",
   "metadata": {
    "tags": []
   },
   "outputs": [],
   "source": [
    "# dev = torch.device(\"cuda\") if torch.cuda.is_available() else torch.device(\"cpu\")\n",
    "# dev = torch.device(\"cpu\")"
   ]
  },
  {
   "cell_type": "code",
   "execution_count": 39,
   "id": "cf141751-d3a2-4c0c-b1a4-d7cfca2d5c36",
   "metadata": {
    "tags": []
   },
   "outputs": [],
   "source": [
    "# Move model to GPU\n",
    "model = Mnist_CNN()\n",
    "model.to(dev)\n",
    "opt = optim.SGD(model.parameters(), lr=lr, momentum=0.9)"
   ]
  },
  {
   "cell_type": "code",
   "execution_count": 40,
   "id": "d7ae0dde-3315-440b-b16b-263294db8ffe",
   "metadata": {
    "tags": []
   },
   "outputs": [
    {
     "name": "stdout",
     "output_type": "stream",
     "text": [
      "Epoch: 0, Validation Loss : 0.3778861283779144\n",
      "Epoch: 1, Validation Loss : 0.34632242302894595\n",
      "Epoch: 2, Validation Loss : 0.2500240843772888\n",
      "Epoch: 3, Validation Loss : 0.20283625326156615\n",
      "Epoch: 4, Validation Loss : 0.21384643511772156\n",
      "Epoch: 5, Validation Loss : 0.18765226073265076\n",
      "Epoch: 6, Validation Loss : 0.18834423843622208\n",
      "Epoch: 7, Validation Loss : 0.15095694166719914\n",
      "Epoch: 8, Validation Loss : 0.17843367358446122\n",
      "Epoch: 9, Validation Loss : 0.1343477134682238\n"
     ]
    }
   ],
   "source": [
    "fit(epochs, model, loss_func, opt, train_dl, valid_dl)"
   ]
  },
  {
   "cell_type": "markdown",
   "id": "2be545cf-b213-41d9-bf65-1b556aadd2eb",
   "metadata": {},
   "source": [
    "### Clearing GPU memory"
   ]
  },
  {
   "cell_type": "code",
   "execution_count": 28,
   "id": "6daa99bb-e4a1-4ce3-ac66-14a111198657",
   "metadata": {},
   "outputs": [],
   "source": [
    "del model"
   ]
  },
  {
   "cell_type": "code",
   "execution_count": 29,
   "id": "a36fc5cf-6da7-4187-b8dc-94cb07ee6350",
   "metadata": {
    "tags": []
   },
   "outputs": [
    {
     "data": {
      "text/plain": [
       "0"
      ]
     },
     "execution_count": 29,
     "metadata": {},
     "output_type": "execute_result"
    }
   ],
   "source": [
    "import gc\n",
    "with torch.no_grad():\n",
    "    torch.cuda.empty_cache()\n",
    "gc.collect()"
   ]
  },
  {
   "cell_type": "code",
   "execution_count": null,
   "id": "b58387f0-62b6-45ae-be03-02e182a1c94a",
   "metadata": {},
   "outputs": [],
   "source": []
  }
 ],
 "metadata": {
  "kernelspec": {
   "display_name": "Python 3 (ipykernel)",
   "language": "python",
   "name": "python3"
  },
  "language_info": {
   "codemirror_mode": {
    "name": "ipython",
    "version": 3
   },
   "file_extension": ".py",
   "mimetype": "text/x-python",
   "name": "python",
   "nbconvert_exporter": "python",
   "pygments_lexer": "ipython3",
   "version": "3.11.4"
  }
 },
 "nbformat": 4,
 "nbformat_minor": 5
}
